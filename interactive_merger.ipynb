{
 "cells": [
  {
   "cell_type": "code",
   "execution_count": 1,
   "metadata": {},
   "outputs": [
    {
     "name": "stdout",
     "output_type": "stream",
     "text": [
      "[NbConvertApp] Converting notebook MW_M31_merger.ipynb to script\n",
      "[NbConvertApp] Writing 8820 bytes to MW_M31_merger.py\n",
      "No display found. Using non-interactive Agg backend for matplotlib\n",
      "Using test initial conditions\n",
      "Building mw galaxy: | Elapsed Time: 0:03:12 Done                               \n",
      "Saving mw galaxy data: | Done                                                  \n",
      "Building m31_not_displaced galaxy: | Elapsed Time: 0:02:27 Done                \n",
      "Saving m31_not_displaced galaxy data: | Done                                   \n",
      "Quitting after galaxy initialization\n",
      "Elapsed:5:41.92,User=646.950,System=33.265,CPU=198.9%.\n"
     ]
    }
   ],
   "source": [
    "!jupyter nbconvert --to script --no-prompt MW_M31_merger.ipynb\n",
    "\n",
    "!mpiexec amuse MW_M31_merger.py --test --nomerger"
   ]
  },
  {
   "cell_type": "code",
   "execution_count": 20,
   "metadata": {},
   "outputs": [
    {
     "name": "stdout",
     "output_type": "stream",
     "text": [
      "No display found. Using non-interactive Agg backend for matplotlib\n",
      "Simuation test run\n",
      "Found galaxies data, loading: | Done                                           \n",
      "Correcting particles velocities ...\n",
      "Saving plots in: /home/brentegani/Desktop/sma-group-e-project\n",
      "Simulating mw (t = 10 Myr, step = 0 Myr) ...\n",
      "Step 109 of 109 [====================================]100% - Time: 0:00:16 Done\n",
      "Elapsed:0:19.73,User=88.651,System=14.280,CPU=521.6%.\n"
     ]
    }
   ],
   "source": [
    "!mpiexec amuse model_test.py"
   ]
  }
 ],
 "metadata": {
  "kernelspec": {
   "display_name": "Python 3",
   "language": "python",
   "name": "python3"
  },
  "language_info": {
   "codemirror_mode": {
    "name": "ipython",
    "version": 3
   },
   "file_extension": ".py",
   "mimetype": "text/x-python",
   "name": "python",
   "nbconvert_exporter": "python",
   "pygments_lexer": "ipython3",
   "version": "3.7.9"
  }
 },
 "nbformat": 4,
 "nbformat_minor": 2
}
