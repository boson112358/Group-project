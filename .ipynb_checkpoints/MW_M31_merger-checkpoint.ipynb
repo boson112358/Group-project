{
 "cells": [
  {
   "cell_type": "code",
   "execution_count": 1,
   "metadata": {},
   "outputs": [],
   "source": [
    "import numpy as np\n",
    "import matplotlib.pyplot as plt\n",
    "from amuse.lab import *\n",
    "from amuse.ext.galactics_model import new_galactics_model\n",
    "\n",
    "from progressbar import ProgressBar"
   ]
  },
  {
   "cell_type": "code",
   "execution_count": 2,
   "metadata": {},
   "outputs": [],
   "source": [
    "def make_plot(disk1, disk2, filename):\n",
    "    print('Plotting {} ... '.format(filename), sep=' ', end='')\n",
    "    x_label = \"X [kpc]\"\n",
    "    y_label = \"Y [kpc]\"\n",
    "    \n",
    "    fig = plt.figure()\n",
    "    \n",
    "    plt.xlabel(x_label)\n",
    "    plt.ylabel(y_label)\n",
    "    \n",
    "    plt.xlim(-300, 300)\n",
    "    plt.ylim(-300, 300)\n",
    "\n",
    "    plt.scatter(disk1.x.value_in(units.kpc), disk1.y.value_in(units.kpc),\n",
    "                   c='tab:blue', alpha=1, s=1, lw=0)\n",
    "    plt.scatter(disk2.x.value_in(units.kpc), disk2.y.value_in(units.kpc),\n",
    "                   c='tab:orange', alpha=1, s=1, lw=0)\n",
    "    \n",
    "    plt.savefig(filename)\n",
    "    print('Done\\n')\n",
    "\n",
    "def make_galaxies(M_galaxy, R_galaxy, n_halo, n_bulge, n_disk):\n",
    "    converter = nbody_system.nbody_to_si(M_galaxy, R_galaxy)\n",
    "    \n",
    "    print('Building galaxy 1 ... ', sep=' ', end='')\n",
    "    galaxy1 = new_galactics_model(n_halo,\n",
    "                                  converter,\n",
    "                                  #do_scale = True,\n",
    "                                  bulge_number_of_particles=n_bulge,\n",
    "                                  disk_number_of_particles=n_disk)\n",
    "    print('Done\\n')\n",
    "    \n",
    "    print('Building galaxy 2 ... ', sep=' ', end='')\n",
    "    galaxy2 = Particles(len(galaxy1))\n",
    "    galaxy2.mass = galaxy1.mass\n",
    "    galaxy2.position = galaxy1.position\n",
    "    galaxy2.velocity = galaxy1.velocity\n",
    "    print('Done\\n')\n",
    "    \n",
    "    print('Adjusting relative velocities and orientations ... ', sep=' ', end='')\n",
    "    galaxy1.rotate(0., np.pi/2, np.pi/4)\n",
    "    galaxy1.position += [100.0, 100, 0] | units.kpc\n",
    "    #galaxy1.velocity += [-3000.0, 0.0, -3000.0] | units.km/units.s\n",
    "    galaxy1.velocity += [-10.0, 0.0, -10.0] | units.km/units.s\n",
    "\n",
    "    galaxy2.rotate(np.pi/4, np.pi/4, 0.0)\n",
    "    galaxy2.position -= [100.0, 0, 0] | units.kpc\n",
    "    galaxy2.velocity -= [0.0, 0.0, 0] | units.km/units.s\n",
    "    print('Done\\n')\n",
    "\n",
    "    return galaxy1, galaxy2, converter\n",
    "\n",
    "def simulate_merger(galaxy1, galaxy2, converter, n_halo, t_end):\n",
    "    converter = nbody_system.nbody_to_si(1.0e12|units.MSun, 100|units.kpc)\n",
    "    \n",
    "    dynamics_code = Gadget2(converter, number_of_workers=4)\n",
    "    dynamics_code.parameters.epsilon_squared = (100 | units.parsec)**2\n",
    "    \n",
    "    set1 = dynamics_code.particles.add_particles(galaxy1)\n",
    "    set2 = dynamics_code.particles.add_particles(galaxy2)\n",
    "    \n",
    "    dynamics_code.particles.move_to_center()\n",
    "    \n",
    "    disk1 = set1[:n_halo]\n",
    "    disk2 = set2[:n_halo]\n",
    "    \n",
    "    make_plot(disk1, disk2, \"Galaxy_merger_t0\")\n",
    "    \n",
    "    current_iter = 0\n",
    "    interval = 0.5 | units.Myr\n",
    "    total_iter = t_end/interval\n",
    "    \n",
    "    progress = ProgressBar(total_days, comp_line='Done', \n",
    "                           global_time_measure=True, iteration_time_measure=True)\n",
    "    progress.show(current_day, prefix='Step {} of {}:'.format(current_iter, total_iter), suffix=' ... ')\n",
    "    \n",
    "    while dynamics_code.model_time < t_end:\n",
    "        \n",
    "        current_iter +=1\n",
    "        \n",
    "        progress.start_iteration_measure()\n",
    "        \n",
    "        dynamics_code.evolve_model(dynamics_code.model_time + interval)\n",
    "                \n",
    "        progress.show(current_day, prefix='Step {} of {}:'.format(current_iter, total_iter), suffix=' ... ')\n",
    "        \n",
    "    dynamics.stop()\n",
    "    \n",
    "    make_plot(disk1, disk2,\n",
    "              \"Galaxy_merger_t\" + str(t_end.value_in(units.Myr))+\"Myr\")"
   ]
  },
  {
   "cell_type": "code",
   "execution_count": null,
   "metadata": {},
   "outputs": [
    {
     "name": "stdout",
     "output_type": "stream",
     "text": [
      "Making galaxy 1 ... "
     ]
    }
   ],
   "source": [
    "M_galaxy = 1.0e12 | units.MSun\n",
    "R_galaxy = 10 | units.kpc\n",
    "n_bulge = 10000\n",
    "n_disk = 10000\n",
    "n_halo = 20000\n",
    "t_end = 200|units.Myr\n",
    "\n",
    "galaxy1, galaxy2, converter = make_galaxies(M_galaxy, R_galaxy, n_halo, n_bulge, n_disk)\n",
    "simulate_merger(galaxy1, galaxy2, converter, n_halo, t_end)"
   ]
  },
  {
   "cell_type": "code",
   "execution_count": null,
   "metadata": {},
   "outputs": [],
   "source": []
  }
 ],
 "metadata": {
  "kernelspec": {
   "display_name": "Python 3",
   "language": "python",
   "name": "python3"
  },
  "language_info": {
   "codemirror_mode": {
    "name": "ipython",
    "version": 3
   },
   "file_extension": ".py",
   "mimetype": "text/x-python",
   "name": "python",
   "nbconvert_exporter": "python",
   "pygments_lexer": "ipython3",
   "version": "3.8.3"
  }
 },
 "nbformat": 4,
 "nbformat_minor": 4
}
