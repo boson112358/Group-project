{
 "cells": [
  {
   "cell_type": "code",
   "execution_count": 2,
   "metadata": {},
   "outputs": [],
   "source": [
    "import os\n",
    "import inspect\n",
    "import sys\n",
    "\n",
    "#finds script path\n",
    "filename = inspect.getframeinfo(inspect.currentframe()).filename\n",
    "SCRIPT_PATH = os.path.dirname(os.path.abspath(filename))\n",
    "#add progressbar path to possible paths to import modules\n",
    "#sys.path.insert(1, SCRIPT_PATH + '/python-progressbar/')"
   ]
  },
  {
   "cell_type": "code",
   "execution_count": 3,
   "metadata": {},
   "outputs": [],
   "source": [
    "#progressbar import\n",
    "\n",
    "import modules.progressbar as pbar\n",
    "import modules.progressbar.widgets as pbwg"
   ]
  },
  {
   "cell_type": "code",
   "execution_count": 4,
   "metadata": {},
   "outputs": [
    {
     "name": "stdout",
     "output_type": "stream",
     "text": [
      "Using Linux paths\n"
     ]
    }
   ],
   "source": [
    "if os.name != 'nt':\n",
    "    print('Using Linux paths')\n",
    "    \n",
    "    ani_folder = SCRIPT_PATH + '/data/animations/'\n",
    "\n",
    "    if not os.path.exists(ani_folder):\n",
    "        os.makedirs(ani_folder)\n",
    "    \n",
    "    plots_folder_merger = SCRIPT_PATH + '/plots/merger_plots/'\n",
    "    plots_folder_solar = SCRIPT_PATH + '/plots/solar_system_plots/'\n",
    "    plots_folder_mw = SCRIPT_PATH + '/plots/mw_new_model/'\n",
    "    contour_folder_merger = SCRIPT_PATH + '/plots/merger_contour/'\n",
    "    plots_folder_zoomed = SCRIPT_PATH + '/plots/zoomed_merger_plots/'\n",
    "    plots_single_galaxy = SCRIPT_PATH + '/data/sim_plots/'\n",
    "elif os.name == 'nt':\n",
    "    print('Using Windows paths')\n",
    "    \n",
    "    ani_folder = SCRIPT_PATH + '\\\\data\\\\animations\\\\'\n",
    "\n",
    "    if not os.path.exists(ani_folder):\n",
    "        os.makedirs(ani_folder)\n",
    "    \n",
    "    plots_folder_merger = 'C:\\\\Users\\\\Alberto\\\\Documents\\\\Università\\\\Leiden\\\\SMA\\\\simulations_261020\\\\merger_plots\\\\'\n",
    "    plots_folder_solar = 'C:\\\\Users\\\\Alberto\\\\Documents\\\\Università\\\\Leiden\\\\SMA\\\\simulations_261020\\\\solar_system_plots\\\\'\n",
    "    plots_folder_mw = 'C:\\\\Users\\\\Alberto\\\\Documents\\\\Università\\\\Leiden\\\\SMA\\\\simulations_261020\\\\mw_new_model\\\\'\n",
    "    contour_folder_merger = 'C:\\\\Users\\\\Alberto\\\\Documents\\\\Università\\\\Leiden\\\\SMA\\\\simulations_261020\\\\merger_contour\\\\'\n",
    "    plots_folder_zoomed = 'C:\\\\Users\\\\Alberto\\\\Documents\\\\Università\\\\Leiden\\\\SMA\\\\simulations_261020\\\\zoomed_merger_plots\\\\'\n",
    "    plots_single_galaxy = 'C:\\\\Users\\\\Alberto\\\\Documents\\\\Università\\\\Leiden\\\\SMA\\\\simulations_261020\\\\single_galaxy_test\\\\'"
   ]
  },
  {
   "cell_type": "code",
   "execution_count": 5,
   "metadata": {},
   "outputs": [],
   "source": [
    "import imageio"
   ]
  },
  {
   "cell_type": "code",
   "execution_count": 6,
   "metadata": {},
   "outputs": [],
   "source": [
    "def animation(plots_folder, out_name, fps=20):\n",
    "    filenames_list = []\n",
    "    for (dirpath, dirnames, filenames) in os.walk(plots_folder):\n",
    "        filenames_list.extend(filenames)\n",
    "        break\n",
    "\n",
    "    filenames_list.sort()\n",
    "\n",
    "    writer = imageio.get_writer(ani_folder + out_name, fps=fps)\n",
    "\n",
    "    current_iter = 0\n",
    "    total_iter = len(filenames_list)\n",
    "\n",
    "    widgets = ['Saving animation: ',\n",
    "               pbwg.Bar(marker='=', tip='>', left='[', right=']', fill=' '), \n",
    "               pbwg.Percentage(), ' - ', pbwg.ETA('ETA'), pbwg.EndMsg()]\n",
    "    progress = pbar.ProgressBar(widgets=widgets, maxval=total_iter, fd=sys.stdout).start()\n",
    "\n",
    "    for filename in filenames_list:\n",
    "        current_iter +=1\n",
    "        writer.append_data(imageio.imread(plots_folder + filename))\n",
    "        progress.update(current_iter)\n",
    "\n",
    "    progress.finish()\n",
    "    writer.close()\n",
    "    #imageio.mimsave(ani_folder + out_name, images, duration=0.2)"
   ]
  },
  {
   "cell_type": "code",
   "execution_count": 7,
   "metadata": {},
   "outputs": [
    {
     "name": "stdout",
     "output_type": "stream",
     "text": [
      "Saving animation: [==================================]100% - Time: 0:00:03 Done\n"
     ]
    }
   ],
   "source": [
    "#mw animation\n",
    "animation(SCRIPT_PATH + '/data/merger/merger_2020-11-17-0001/merger_plots/', 'merger_contour_test5_tstep.mp4')"
   ]
  },
  {
   "cell_type": "code",
   "execution_count": 11,
   "metadata": {},
   "outputs": [
    {
     "name": "stdout",
     "output_type": "stream",
     "text": [
      "Saving animation: [==================================]100% - Time: 0:00:04 Done\n"
     ]
    }
   ],
   "source": [
    "#single galaxy animation\n",
    "animation(SCRIPT_PATH + '/data/models/test/mw_test_2020-11-04-0003/sim_plots/', 'mw_anim_test_G2.mp4')"
   ]
  },
  {
   "cell_type": "code",
   "execution_count": 21,
   "metadata": {},
   "outputs": [
    {
     "name": "stdout",
     "output_type": "stream",
     "text": [
      "Saving animation: [==================================]100% - Time: 0:00:14 Done\n"
     ]
    }
   ],
   "source": [
    "#merger animation\n",
    "animation(plots_folder_merger, 'mw_m31_merger_anim_3.mp4')"
   ]
  },
  {
   "cell_type": "code",
   "execution_count": 22,
   "metadata": {},
   "outputs": [
    {
     "name": "stdout",
     "output_type": "stream",
     "text": [
      "Saving animation: [==================================]100% - Time: 0:00:12 Done\n"
     ]
    }
   ],
   "source": [
    "#contour animation\n",
    "animation(contour_folder_merger, 'mw_m31_contour_merger_anim_3.mp4')"
   ]
  },
  {
   "cell_type": "code",
   "execution_count": 23,
   "metadata": {},
   "outputs": [
    {
     "name": "stdout",
     "output_type": "stream",
     "text": [
      "Saving animation: [==================================]100% - Time: 0:00:18 Done\n"
     ]
    }
   ],
   "source": [
    "#zoomed animation\n",
    "animation(plots_folder_zoomed, 'mw_m31_zoomed_merger_anim_3.mp4')"
   ]
  },
  {
   "cell_type": "code",
   "execution_count": null,
   "metadata": {},
   "outputs": [],
   "source": [
    "#solar animation\n",
    "animation(plots_folder_solar, 'solar_system_anim.gif')"
   ]
  }
 ],
 "metadata": {
  "kernelspec": {
   "display_name": "Python 3",
   "language": "python",
   "name": "python3"
  },
  "language_info": {
   "codemirror_mode": {
    "name": "ipython",
    "version": 3
   },
   "file_extension": ".py",
   "mimetype": "text/x-python",
   "name": "python",
   "nbconvert_exporter": "python",
   "pygments_lexer": "ipython3",
   "version": "3.7.9"
  }
 },
 "nbformat": 4,
 "nbformat_minor": 2
}
