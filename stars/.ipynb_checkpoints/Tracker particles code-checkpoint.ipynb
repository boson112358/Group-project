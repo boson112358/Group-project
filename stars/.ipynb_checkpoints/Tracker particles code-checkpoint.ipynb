{
 "cells": [
  {
   "cell_type": "code",
   "execution_count": 1,
   "metadata": {},
   "outputs": [],
   "source": [
    "## In this code I will write out the tracker particles, these will be used to see what happens to stars during the\n",
    "## merger event. These will be written out using the get_gravity_at_position() function on the galaxy/IGM Fi solver\n",
    "## This way the \"ghost\" particles won't have an effect on eachother or on the merger themself and computation is\n",
    "## speed up considerably making it possible to use very large particle sets for statistical analysis\n",
    "#\n",
    "#\n",
    "## First we generate 2 small \"galaxies\" so we can get the get_grav function to work and we have an example with\n",
    "## which we can test the ghost particles.\n",
    "## Once our small galaxy merge works we will attempt to add the ghost particles as seen in chapter 7 of the AMUSE\n",
    "## book.\n",
    "## And once we have this working we will start working on some statistical analysis functions for data analysis"
   ]
  },
  {
   "cell_type": "code",
   "execution_count": 2,
   "metadata": {},
   "outputs": [],
   "source": [
    "import numpy\n",
    "import random,math\n",
    "from amuse.plot import plot,scatter\n",
    "from matplotlib import pyplot\n",
    "from amuse.units import nbody_system,units\n",
    "from amuse.lab import Particles\n",
    "from amuse.community.fi.interface import Fi\n",
    "from amuse.community.ph4.interface import ph4"
   ]
  },
  {
   "cell_type": "code",
   "execution_count": 83,
   "metadata": {},
   "outputs": [],
   "source": [
    "N= 40   #These values and code are just for my test galaxy, will be replaced by the Fi solver\n",
    "r = 8\n",
    "v=230 \n",
    "\n",
    "def MW_and_M31():\n",
    "    MW_M31 = Particles(2+2*N)\n",
    "    MW = MW_M31[0]\n",
    "    MW.mass = 1*10**11 | units.MSun\n",
    "    MW.position = (0,0,0) | units.kpc\n",
    "    MW.velocity = (10,10,0) | units.kms\n",
    "    #MW.u = 0.5*(math.sqrt(2)*10)**2*1000*1000 | units.m**2 * units.s**-2\n",
    "    for i in range(N):\n",
    "        MW_M31[1+i].mass = 10 | units.MSun\n",
    "        angle = random.random()*2*math.pi\n",
    "        MW_M31[1+i].position = (r*math.cos(angle),r*math.sin(angle),0) | units.kpc\n",
    "        MW_M31[1+i].velocity = (10+v*math.sin(angle),10 - math.cos(angle)*v,0) | units.kms\n",
    "        #Tried to add energy thing since Fi wanted it but didn't work\n",
    "        #MW_M31[1+i].u = 0.5*(math.sqrt((10 + v*math.sin(angle))**2+10 - math.cos(angle)*v))**2*1000*1000 | units.m**2 * units.s**-2\n",
    "    M31 = MW_M31[N+1]\n",
    "    M31.mass = 1.6*10**11 | units.MSun\n",
    "    M31.position = (780,0,0) | units.kpc\n",
    "    M31.velocity = (0,0,0) | units.kms\n",
    "    for i in range(N):\n",
    "        MW_M31[N+2+i].mass = 10 | units.MSun\n",
    "        angle = random.random()*2*math.pi\n",
    "        MW_M31[N+2+i].position = (780 + r*math.cos(angle),r*math.sin(angle),0) | units.kpc\n",
    "        MW_M31[N+2+i].velocity = (v*math.sin(angle),-math.cos(angle)*v,0) | units.kms\n",
    "        #MW_M31[N+2+i].u = 0.5*230**2*1000*1000 | units.m**2 * units.s**-2\n",
    "    return MW_M31\n",
    "\n",
    "\n",
    "Galaxies=MW_and_M31()\n"
   ]
  },
  {
   "cell_type": "code",
   "execution_count": 89,
   "metadata": {},
   "outputs": [
    {
     "name": "stdout",
     "output_type": "stream",
     "text": [
      "                 key         mass       radius           vx           vy           vz            x            y            z\n",
      "                   -         MSun         RSun  1000.0 * m * s**-1  1000.0 * m * s**-1       km / s  3.08567758128e+19 * m  3.08567758128e+19 * m          kpc\n",
      "====================  ===========  ===========  ===========  ===========  ===========  ===========  ===========  ===========\n",
      " 9116634185710756434    5.000e+00    1.500e+00    1.627e+02    1.684e+02    0.000e+00   -4.014e+00    3.871e+00    0.000e+00\n",
      "13482600405827649841    5.000e+00    1.500e+00    1.685e+02    1.626e+02    0.000e+00   -3.873e+00    4.023e+00    0.000e+00\n",
      "13998761987656802198    5.000e+00    1.500e+00    1.673e+02    1.638e+02    0.000e+00   -3.904e+00    3.994e+00    0.000e+00\n",
      "12535525527609422748    5.000e+00    1.500e+00    1.641e+02    1.670e+02    0.000e+00   -4.039e+00    3.964e+00    0.000e+00\n",
      " 3376720296229966800    5.000e+00    1.500e+00    1.682e+02    1.629e+02    0.000e+00   -3.936e+00    4.072e+00    0.000e+00\n",
      " 5877127021845496464    5.000e+00    1.500e+00    1.683e+02    1.627e+02    0.000e+00   -3.971e+00    4.117e+00    0.000e+00\n",
      " 5099958127329820946    5.000e+00    1.500e+00    1.694e+02    1.617e+02    0.000e+00   -3.838e+00    4.032e+00    0.000e+00\n",
      "18319902394473965298    5.000e+00    1.500e+00    1.680e+02    1.631e+02    0.000e+00   -3.878e+00    4.002e+00    0.000e+00\n",
      " 6116882713966594650    5.000e+00    1.500e+00    1.655e+02    1.657e+02    0.000e+00   -4.116e+00    4.110e+00    0.000e+00\n",
      "12663339023732708460    5.000e+00    1.500e+00    1.674e+02    1.637e+02    0.000e+00   -3.921e+00    4.015e+00    0.000e+00\n",
      "====================  ===========  ===========  ===========  ===========  ===========  ===========  ===========  ===========\n"
     ]
    }
   ],
   "source": [
    "#Here we define the track particles with some values which can change their location and radius of distribution\n",
    "\n",
    "\n",
    "Solarposition = (-4,4,0) | units.kpc  #If we displace MW, we can do it through this vector aswell\n",
    "neighbourradius = 0.100 | units.kpc   #neighbourhood in which we distribute our stars\n",
    "Ntracker=10                          #How many particles we will add\n",
    "VelocityMilky = (10,10,0) | (units.km/units.s)  #Velocity at which the milkyway is traveling\n",
    "vel = 220 | (units.km/units.s)   #This is roughly the velocity for our solarsystem around MW\n",
    "#If we want to use different position we have to make sure to properly change the velocity.\n",
    "#I also assumed the velocity is roughly constant throughout the neighbourradius which only for small r is the case\n",
    "def Nstars():  \n",
    "    particles = Particles(Ntracker)\n",
    "    i=0\n",
    "    while i < Ntracker:\n",
    "        #here we generate our N bodies, we can change code in here to reflect different things\n",
    "        #We can distribut them randomly, have them near eachother, all at the same radius etc.\n",
    "        #All particles are in the x-y plane, this should still be adjusted accordingly to give some z randomization\n",
    "        \n",
    "        #For now I will keep the mass the same and distribute uniformly over a circle\n",
    "        smallangle = random.random()*2*math.pi   #smallangle  is angle around solarpos, angle is angle around Sag A\n",
    "        radius = neighbourradius * math.sqrt(random.random()) #sqrt so it's uniform and not clumped at r=0\n",
    "        particles[i].mass = 5 | units.MSun \n",
    "        particles[i].radius = 1.5 | units.RSun   \n",
    "        #I have no z displacement, I can still add this though\n",
    "        particles[i].position = (radius*math.cos(smallangle) + Solarposition[0], radius*math.sin(smallangle) + Solarposition[1],Solarposition[2]) \n",
    "        #arctan only -pi/2 to pi/2, this codes gives us from -pi/2 to 3pi/2, we need global angle to fix vel vector\n",
    "        if particles[i].x < 0 | units.kpc:\n",
    "            angle = math.atan(particles[i].y / particles[i].x) + math.pi\n",
    "        else:\n",
    "            angle = math.atan(particles[i].y/particles[i].x)\n",
    "        \n",
    "        #print(360*angle/(2*math.pi)) you can check that the angles are correct this way\n",
    "        \n",
    "        particles[i].velocity = [math.sin(angle)*vel + VelocityMilky[0],-math.cos(angle)*vel+VelocityMilky[1],VelocityMilky[2]] \n",
    "        i += 1\n",
    "    return particles\n",
    "Tracker = Nstars()\n",
    "print(Tracker)"
   ]
  },
  {
   "cell_type": "code",
   "execution_count": 90,
   "metadata": {},
   "outputs": [],
   "source": [
    "#This ph4 will be replaced by the Fi later\n",
    "converter=nbody_system.nbody_to_si(1.0e12|units.MSun, 100|units.kpc)\n",
    "gravity = ph4(converter)\n",
    "gravity.particles.add_particles(Galaxies)\n",
    "channel1 = gravity.particles.new_channel_to(Galaxies)\n",
    "channel2 = Tracker.new_channel_to(Tracker)\n",
    "DeltaT = 0.1   #This is the timestep we will use in Myr\n",
    "#If we want to have a non constant DeltaT we would need to change some of the code since leap-frog is not stable\n",
    "#enough for varying timesteps. Can be done by finishing the leap-frog and starting a new one\n",
    "\n",
    "gravity.timestep = DeltaT|units.Myr\n",
    "times = numpy.arange(0., 50, DeltaT) | units.Myr\n",
    "\n",
    "\n",
    "unity = 1 | units.m**-1 * units.s**2 #We do this to remove the units inside the vector\n",
    "unity2 = 1 | units.m * units.s**-2  #Here we add the units on the outside\n",
    "Accelout = [0,0,0] \n",
    "#Now that we have initialised our particle set we have the main gravitational solver with a certain timestep DeltaT\n",
    "#This is what will later be the main solving part of Fi.\n",
    "k=0\n",
    "for time in times:\n",
    "    #This is just the gravity solving, this will be replaced by the Fi solver in the main code\n",
    "    gravity.evolve_model(time)\n",
    "    channel1.copy()\n",
    "    \n",
    "    #print(Galaxies.position[3]) #I added this to quickly see if it works, I'll add some actual plots later\n",
    "    #here we define a leapfrog integration method for the tracker particles through the get_gravity_at_point()\n",
    "    if k ==0:       #First timestep is only half for leapfrog\n",
    "        for i in range(Ntracker):  #We have to repeat this for all particles in our set of trackers\n",
    "            Accelout = [0,0,0] \n",
    "            #We get the acceleration at x_i\n",
    "            accel = gravity.get_gravity_at_point(3 | units.km, Tracker[i].position[0],Tracker[i].position[1],Tracker[i].position[2])\n",
    "            for f in range(3):\n",
    "                \n",
    "                Accelout[f] = (accel[f]*unity)  #removing units\n",
    "                \n",
    "            Accelout = Accelout*unity2 #units outside vector\n",
    "            \n",
    "            #We calculate v_{i+1/2} over the x y and z (I tried adding directly but got mismatched units)\n",
    "            #and we calculate x_{i+1} with the velocity v_{i+1/2}\n",
    "            \n",
    "            \n",
    "                \n",
    "            Tracker[i].velocity = Tracker[i].velocity + Accelout*gravity.timestep*0.5\n",
    "                \n",
    "            Tracker[i].position = Tracker[i].position + Tracker[i].velocity*gravity.timestep\n",
    "              \n",
    "            \n",
    "            \n",
    "    else:    #rest of the leapfrog, I might still have to change something for the last step of the frog\n",
    "        \n",
    "        for i in range(Ntracker):\n",
    "            #We get the acceleration at x_i\n",
    "            Accelout = [0,0,0]\n",
    "            accel = gravity.get_gravity_at_point(3 | units.km, Tracker[i].position[0],Tracker[i].position[1],Tracker[i].position[2])\n",
    "            for f in range(3):\n",
    "                \n",
    "                Accelout[f] = (accel[f]*unity)\n",
    "                \n",
    "            Accelout = Accelout*unity2\n",
    "            #We calculate v_{i+1/2} over the x y and z (I tried adding directly but got mismatched units)\n",
    "            #and we calculate x_{i+1} with the velocity v_{i+1/2}\n",
    "            Tracker[i].velocity = Tracker[i].velocity + Accelout*gravity.timestep\n",
    "              \n",
    "            Tracker[i].position = Tracker[i].position + Tracker[i].velocity*gravity.timestep\n",
    "            \n",
    "        \n",
    "    k += 1\n",
    "    \n",
    "    \n",
    "    \n",
    "    \n",
    "    \n",
    "gravity.stop()"
   ]
  },
  {
   "cell_type": "code",
   "execution_count": 91,
   "metadata": {},
   "outputs": [
    {
     "data": {
      "image/png": "[encoded data removed]",
      "text/plain": [
       "<Figure size 432x288 with 1 Axes>"
      ]
     },
     "metadata": {
      "needs_background": "light"
     },
     "output_type": "display_data"
    }
   ],
   "source": [
    "for i in range(10):\n",
    "    scatter(Tracker[i].position[0],Tracker[i].position[1])\n",
    "for i in range(41):\n",
    "    scatter(Galaxies[i].x,Galaxies[i].y)\n",
    "#Quick plot to see end result, need to make some actual data analysis functions and such which will come later\n",
    "\n",
    "#The other cell's are mostly just me randomly testing stuff to make sure things work, they can be ignored"
   ]
  },
  {
   "cell_type": "code",
   "execution_count": 92,
   "metadata": {},
   "outputs": [
    {
     "name": "stdout",
     "output_type": "stream",
     "text": [
      "[[-2.38871088588, -1.53484159212, 0.0], [-2.5776604598, -1.31325661364, 0.0], [-2.52818060835, -1.37130248885, 0.0], [-2.0094764503, -1.82380999645, 0.0], [-2.16938849513, -1.6771485327, 0.0], [-1.8598914456, -1.89834248234, 0.0], [-2.69097492498, -1.18806039187, 0.0], [-2.61260197589, -1.28211308553, 0.0], [-1.10256880382, -2.31448196401, 0.0], [-2.40264755806, -1.48756484444, 0.0]] 3.08567758128e+19 * m\n"
     ]
    }
   ],
   "source": [
    "print(Tracker.position)"
   ]
  },
  {
   "cell_type": "code",
   "execution_count": 122,
   "metadata": {},
   "outputs": [
    {
     "data": {
      "text/plain": [
       "[quantity<3.66649483974e-14 m * s**-2>,\n",
       " quantity<-3.43158522247e-20 m * s**-2>,\n",
       " quantity<0.0 m * s**-2>]"
      ]
     },
     "execution_count": 122,
     "metadata": {},
     "output_type": "execute_result"
    }
   ],
   "source": [
    "i=0\n",
    "gravity.get_gravity_at_point(3 | units.km, Galaxies[i].position[0],Galaxies[i].position[1],Galaxies[i].position[2])"
   ]
  },
  {
   "cell_type": "code",
   "execution_count": null,
   "metadata": {},
   "outputs": [],
   "source": []
  },
  {
   "cell_type": "code",
   "execution_count": 126,
   "metadata": {},
   "outputs": [],
   "source": []
  },
  {
   "cell_type": "code",
   "execution_count": 173,
   "metadata": {},
   "outputs": [],
   "source": []
  },
  {
   "cell_type": "code",
   "execution_count": null,
   "metadata": {},
   "outputs": [],
   "source": []
  },
  {
   "cell_type": "code",
   "execution_count": null,
   "metadata": {},
   "outputs": [],
   "source": []
  },
  {
   "cell_type": "code",
   "execution_count": 187,
   "metadata": {},
   "outputs": [],
   "source": []
  },
  {
   "cell_type": "code",
   "execution_count": null,
   "metadata": {},
   "outputs": [],
   "source": []
  },
  {
   "cell_type": "code",
   "execution_count": null,
   "metadata": {},
   "outputs": [],
   "source": []
  },
  {
   "cell_type": "code",
   "execution_count": 15,
   "metadata": {},
   "outputs": [
    {
     "name": "stdout",
     "output_type": "stream",
     "text": [
      "[156.063206594, 174.516077268, 0.0] 1000.0 * m * s**-1\n",
      "[-2.2746471001e-10 m * s**-2, -2.65670481544e-10 m * s**-2, 0.0 m * s**-2] 31556925993600.004 * s\n",
      "166.132333543 1000.0 * m * s**-1\n",
      "[0, quantity<166.132333543 1000.0 * m * s**-1>, 0]\n",
      "174.516077268 1000.0 * m * s**-1\n"
     ]
    }
   ],
   "source": [
    "### Why logic have thou forsaken me\n",
    "z = [0,0,0]\n",
    "print(Tracker[i].velocity)\n",
    "print(accel*gravity.timestep*0.5)\n",
    "print(Tracker[i].velocity[1] + accel[1]*gravity.timestep*0.5)\n",
    "z[1]  = Tracker[i].velocity[1] + accel[1]*gravity.timestep*0.5\n",
    "print(z)\n",
    "Tracker[i].velocity[1] = Tracker[i].velocity[1] +  accel[1]*gravity.timestep*0.5\n",
    "print(Tracker[i].velocity[1])\n"
   ]
  },
  {
   "cell_type": "code",
   "execution_count": null,
   "metadata": {},
   "outputs": [],
   "source": []
  },
  {
   "cell_type": "code",
   "execution_count": null,
   "metadata": {},
   "outputs": [],
   "source": []
  },
  {
   "cell_type": "code",
   "execution_count": null,
   "metadata": {},
   "outputs": [],
   "source": []
  },
  {
   "cell_type": "code",
   "execution_count": null,
   "metadata": {},
   "outputs": [],
   "source": []
  },
  {
   "cell_type": "code",
   "execution_count": null,
   "metadata": {},
   "outputs": [],
   "source": []
  },
  {
   "cell_type": "code",
   "execution_count": null,
   "metadata": {},
   "outputs": [],
   "source": []
  },
  {
   "cell_type": "code",
   "execution_count": null,
   "metadata": {},
   "outputs": [],
   "source": []
  },
  {
   "cell_type": "code",
   "execution_count": null,
   "metadata": {},
   "outputs": [],
   "source": []
  },
  {
   "cell_type": "code",
   "execution_count": null,
   "metadata": {},
   "outputs": [],
   "source": []
  },
  {
   "cell_type": "code",
   "execution_count": 37,
   "metadata": {},
   "outputs": [
    {
     "name": "stdout",
     "output_type": "stream",
     "text": [
      "[quantity<-9.09858840042e-10 m * s**-2 s**2 * m**-1>, quantity<-1.06268192618e-09 m * s**-2 s**2 * m**-1>, quantity<0.0 m * s**-2 s**2 * m**-1>]\n",
      "[186.063206594, 224.516077268, 90.0] 1000.0 * m * s**-1\n"
     ]
    }
   ],
   "source": [
    "k = [0,0,0] \n",
    "for j in range(3):\n",
    "    k[j] = accel[j] | units.s**2 * units.m**-1\n",
    "print(k)\n",
    "eenheid = 1 | units.m**-1 * units.s**2\n",
    "print(Tracker[i].velocity)"
   ]
  },
  {
   "cell_type": "code",
   "execution_count": 38,
   "metadata": {},
   "outputs": [
    {
     "name": "stdout",
     "output_type": "stream",
     "text": [
      "[-9.0985884004194333e-10, -1.0626819261765853e-09, 0.0]\n"
     ]
    }
   ],
   "source": [
    "for j in range(3):\n",
    "    k[j] = accel[j]*eenheid\n"
   ]
  },
  {
   "cell_type": "code",
   "execution_count": 60,
   "metadata": {},
   "outputs": [],
   "source": [
    "Accelout = [0,0,0] \n",
    "unity = 1 | units.m**-1 * units.s**2 \n",
    "for f in range(3):\n",
    "    Accelout[f] = accel[f]*unity\n",
    "\n",
    "Accelout = Accelout*unity2"
   ]
  },
  {
   "cell_type": "code",
   "execution_count": 61,
   "metadata": {},
   "outputs": [
    {
     "name": "stdout",
     "output_type": "stream",
     "text": [
      "[2.89927366164e-10, -1.94240072909e-10, 0.0] m * s**-2\n"
     ]
    }
   ],
   "source": [
    "print(Accelout)"
   ]
  },
  {
   "cell_type": "code",
   "execution_count": null,
   "metadata": {},
   "outputs": [],
   "source": []
  }
 ],
 "metadata": {
  "kernelspec": {
   "display_name": "Python 3",
   "language": "python",
   "name": "python3"
  },
  "language_info": {
   "codemirror_mode": {
    "name": "ipython",
    "version": 3
   },
   "file_extension": ".py",
   "mimetype": "text/x-python",
   "name": "python",
   "nbconvert_exporter": "python",
   "pygments_lexer": "ipython3",
   "version": "3.8.5"
  }
 },
 "nbformat": 4,
 "nbformat_minor": 4
}
