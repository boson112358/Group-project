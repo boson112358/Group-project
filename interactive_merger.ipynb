{
 "cells": [
  {
   "cell_type": "code",
   "execution_count": 1,
   "metadata": {},
   "outputs": [
    {
     "name": "stdout",
     "output_type": "stream",
     "text": [
      "[NbConvertApp] Converting notebook MW_M31_merger.ipynb to script\n",
      "[NbConvertApp] Writing 8379 bytes to MW_M31_merger.py\n",
      "No display found. Using non-interactive Agg backend for matplotlib\n",
      "Plots turned on\n",
      "Using test initial conditions\n",
      "Found galaxies data, loading: | Done                                           \n",
      "Adjusting relative velocities and orientations: | Done                         \n",
      "Simulating merger with no additional components (t = 400 Myr) ...\n",
      "Step 401 of 401 [====================================]100% - Time: 0:01:56 Done\n",
      "Elapsed:2:09.65,User=587.051,System=56.368,CPU=496.2%.\n"
     ]
    }
   ],
   "source": [
    "!jupyter nbconvert --to script --no-prompt MW_M31_merger.ipynb\n",
    "\n",
    "!mpiexec amuse MW_M31_merger.py --plot --test"
   ]
  },
  {
   "cell_type": "code",
   "execution_count": null,
   "metadata": {},
   "outputs": [],
   "source": []
  }
 ],
 "metadata": {
  "kernelspec": {
   "display_name": "Python 3",
   "language": "python",
   "name": "python3"
  },
  "language_info": {
   "codemirror_mode": {
    "name": "ipython",
    "version": 3
   },
   "file_extension": ".py",
   "mimetype": "text/x-python",
   "name": "python",
   "nbconvert_exporter": "python",
   "pygments_lexer": "ipython3",
   "version": "3.7.9"
  }
 },
 "nbformat": 4,
 "nbformat_minor": 2
}
