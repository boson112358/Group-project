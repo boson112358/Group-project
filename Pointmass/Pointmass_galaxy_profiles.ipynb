{
 "cells": [
  {
   "cell_type": "code",
   "execution_count": 1,
   "metadata": {},
   "outputs": [],
   "source": [
    "#In this code we will do a simple point mass simulation of the MW-M31 system\n",
    "#Reason being to get a rough idea of the velocity/distance profile of the merger in function of time\n",
    "#This can then be used to check if the galaxy model has a similar profile\n",
    "\n",
    "#If we want to check this profile with a random particle in M31 we have to remember that these experience\n",
    "#an additional motion so you can't compare velocity easily, one would have to average out over multiple M31 particles"
   ]
  },
  {
   "cell_type": "code",
   "execution_count": 3,
   "metadata": {},
   "outputs": [],
   "source": [
    "#Structure of the code:\n",
    "# Initialise: Define the point mass particles, displace them properly using a rotation matrix, \n",
    "#add the radial and tangential velocity to M31\n",
    "\n",
    "#Main code:\n",
    "#Run gravity solver for a certain timestep\n",
    "#After this timestep calculate the velocities and the distance\n",
    "#Save these values and continue evolving\n",
    "\n",
    "#Once done we can plot velocity in function of time, distance in function of time."
   ]
  },
  {
   "cell_type": "code",
   "execution_count": 191,
   "metadata": {},
   "outputs": [],
   "source": [
    "import numpy as np\n",
    "import matplotlib.pyplot as plt\n",
    "import random\n",
    "import math\n",
    "from amuse.lab import units,Particles\n",
    "\n"
   ]
  },
  {
   "cell_type": "code",
   "execution_count": 192,
   "metadata": {},
   "outputs": [],
   "source": [
    "rotation = np.array([[0.7703,  0.3244,  0.5490],\n",
    "                     [-0.6321, 0.5017,  0.5905],\n",
    "                     [-0.0839, -0.8019, 0.5915]])\n",
    "\n",
    "translation = [-379.2, 612.7, 283.1] | units.kpc\n",
    "radial_velocity = 117 * np.array([0.4898, -0.7914, 0.3657]) | units.kms\n",
    "transverse_velocity = 70 * np.array([0.5236, 0.6024, 0.6024]) | units.kms"
   ]
  },
  {
   "cell_type": "code",
   "execution_count": 193,
   "metadata": {},
   "outputs": [],
   "source": [
    "System = Particles(2)\n",
    "MW = System[0]\n",
    "M31 = System[1]\n",
    "MW.mass = 2*10**12 | units.MSun  #Using much larger mass\n",
    "MW.position = (0,0,0) | units.kpc\n",
    "MW.velocity = (0,0,0) | units.kms\n",
    "M31.mass = 3*10**12 | units.MSun\n",
    "M31.position = translation\n",
    "M31.velocity = radial_velocity + transverse_velocity"
   ]
  },
  {
   "cell_type": "code",
   "execution_count": 194,
   "metadata": {},
   "outputs": [
    {
     "name": "stdout",
     "output_type": "stream",
     "text": [
      "136.33897041422162\n",
      "[93.9586, -50.4258, 84.9549] kms\n",
      "[379.2, -612.7, -283.1] kpc\n",
      "774.1702267589474\n"
     ]
    }
   ],
   "source": [
    "unit = 1 | units.m**-2 * units.s**2   #To get rid of m^2/s^2 \n",
    "a = math.sqrt((M31.velocity[0]**2+M31.velocity[1]**2+M31.velocity[2]**2)*unit)\n",
    "print(a/1000)\n",
    "print(M31.velocity)\n",
    "b = MW.position - M31.position\n",
    "print(b)\n",
    "unit2 = 1 | units.kpc**-2\n",
    "c = math.sqrt((b[0]**2 + b[1]**2 + b[2]**2)*unit2)\n",
    "print(c)"
   ]
  },
  {
   "cell_type": "code",
   "execution_count": 195,
   "metadata": {},
   "outputs": [],
   "source": [
    "from amuse.units.constants import G\n",
    "\n",
    "Timestep = 1 | units.Myr\n",
    "unity3 = 1 | units.Myr**-1\n",
    "VMW = []\n",
    "VM31 = [] \n",
    "R = [] \n",
    "Time = np.arange(0, 15000, Timestep*unity3)\n",
    "b = M31.position - MW.position\n",
    "for i in Time:\n",
    "    if i == 0 :\n",
    "        Stepper = 0.5 * Timestep\n",
    "    else:\n",
    "        Stepper = Timestep\n",
    "    Distance = (math.sqrt((b[0]**2 + b[1]**2 + b[2]**2)*unit2)) | units.kpc\n",
    "    Unit = 1/Distance * b\n",
    "    M31.velocity = M31.velocity - (G*MW.mass)/(Distance**2)*Unit*Stepper\n",
    "    MW.velocity = MW.velocity + (G*M31.mass)/(Distance**2)*Unit*Stepper\n",
    "    \n",
    "    MW.position = MW.position + MW.velocity*Timestep\n",
    "    M31.position = M31.position + M31.velocity*Timestep\n",
    "    \n",
    "    \n",
    "    VMW.append(0.001*math.sqrt((MW.velocity[0]**2+MW.velocity[1]**2+MW.velocity[2]**2)*unit))\n",
    "    VM31.append(0.001*math.sqrt((M31.velocity[0]**2+M31.velocity[1]**2+M31.velocity[2]**2)*unit))\n",
    "    b = M31.position - MW.position\n",
    "    R.append(math.sqrt((b[0]**2 + b[1]**2 + b[2]**2)*unit2))\n",
    "    \n",
    "\n"
   ]
  },
  {
   "cell_type": "code",
   "execution_count": null,
   "metadata": {},
   "outputs": [],
   "source": []
  },
  {
   "cell_type": "code",
   "execution_count": 215,
   "metadata": {},
   "outputs": [
    {
     "data": {
      "text/plain": [
       "<function matplotlib.pyplot.show(close=None, block=None)>"
      ]
     },
     "execution_count": 215,
     "metadata": {},
     "output_type": "execute_result"
    },
    {
     "data": {
      "image/png": "[encoded data removed]",
      "text/plain": [
       "<Figure size 432x288 with 1 Axes>"
      ]
     },
     "metadata": {
      "needs_background": "light"
     },
     "output_type": "display_data"
    }
   ],
   "source": [
    "plot(Time,VM31)\n",
    "plt.xlabel('xlabel')\n",
    "plt.ylabel('ylabel')\n",
    "plt.show"
   ]
  },
  {
   "cell_type": "code",
   "execution_count": 197,
   "metadata": {},
   "outputs": [
    {
     "data": {
      "text/plain": [
       "[<matplotlib.lines.Line2D at 0xa78b8118>]"
      ]
     },
     "execution_count": 197,
     "metadata": {},
     "output_type": "execute_result"
    },
    {
     "data": {
      "image/png": "[encoded data removed]",
      "text/plain": [
       "<Figure size 432x288 with 1 Axes>"
      ]
     },
     "metadata": {
      "needs_background": "light"
     },
     "output_type": "display_data"
    }
   ],
   "source": [
    "plot(Time,VMW)\n"
   ]
  },
  {
   "cell_type": "code",
   "execution_count": 198,
   "metadata": {},
   "outputs": [
    {
     "data": {
      "text/plain": [
       "[<matplotlib.lines.Line2D at 0xa765a730>]"
      ]
     },
     "execution_count": 198,
     "metadata": {},
     "output_type": "execute_result"
    },
    {
     "data": {
      "image/png": "[encoded data removed]",
      "text/plain": [
       "<Figure size 432x288 with 1 Axes>"
      ]
     },
     "metadata": {
      "needs_background": "light"
     },
     "output_type": "display_data"
    }
   ],
   "source": [
    "plot(Time,R)"
   ]
  },
  {
   "cell_type": "code",
   "execution_count": null,
   "metadata": {},
   "outputs": [],
   "source": []
  }
 ],
 "metadata": {
  "kernelspec": {
   "display_name": "Python 3",
   "language": "python",
   "name": "python3"
  },
  "language_info": {
   "codemirror_mode": {
    "name": "ipython",
    "version": 3
   },
   "file_extension": ".py",
   "mimetype": "text/x-python",
   "name": "python",
   "nbconvert_exporter": "python",
   "pygments_lexer": "ipython3",
   "version": "3.8.5"
  }
 },
 "nbformat": 4,
 "nbformat_minor": 4
}
