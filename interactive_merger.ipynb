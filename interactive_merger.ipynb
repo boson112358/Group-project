{
 "cells": [
  {
   "cell_type": "code",
   "execution_count": null,
   "metadata": {},
   "outputs": [
    {
     "name": "stdout",
     "output_type": "stream",
     "text": [
      "No display found. Using non-interactive Agg backend for matplotlib\n",
      "Plots turned on\n",
      "Using test initial conditions\n",
      "Found galaxy data in /data1/brentegani/sma-group-e-project/data//models//test/mw_test_2020-11-10-0001/, loading: | Done\n",
      "Found galaxy data in /data1/brentegani/sma-group-e-project/data//models//test/m31_not_displaced_test_2020-11-10-0001/, loading: | Done\n",
      "Adjusting relative velocities and orientations: | Done                         \n",
      "Simulating merger with no additional components (t = 8500 Myr) ...\n",
      "Step 8242 of 17001 [==============>                  ] 48% - ETA:  0:40:26     \r"
     ]
    }
   ],
   "source": [
    "#!jupyter nbconvert --to script --no-prompt MW_M31_merger.ipynb\n",
    "\n",
    "!mpiexec amuse mw_m31_merger.py --test --plot"
   ]
  },
  {
   "cell_type": "code",
   "execution_count": 2,
   "metadata": {},
   "outputs": [
    {
     "name": "stdout",
     "output_type": "stream",
     "text": [
      "No display found. Using non-interactive Agg backend for matplotlib\n",
      "Using Andromeda data\n",
      "Skipping galaxy simulation\n",
      "Skipping model analysis\n",
      "Warning: do_scale for a large galactics model may be very slow                 \n",
      "Building m31_not_displaced galaxy: | Elapsed Time: 0:02:48 Done                \n",
      "Saving m31_not_displaced galaxy data in /data1/brentegani/sma-group-e-project/data//models//test/m31_not_displaced_test_2020-11-10-0001/: | Done\n",
      "Elapsed:2:51.77,User=302.672,System=15.128,CPU=185.0%.\n"
     ]
    }
   ],
   "source": [
    "!mpiexec amuse model_test.py --generation --andromeda"
   ]
  },
  {
   "cell_type": "code",
   "execution_count": 1,
   "metadata": {},
   "outputs": [
    {
     "name": "stdout",
     "output_type": "stream",
     "text": [
      "Warning: do_scale for a large galactics model may be very slow                 \n",
      "Building test galaxy: | Elapsed Time: 0:02:24 Done                             \n",
      "Saving mw galaxy data: | Done                                                  \n",
      "/data1/brentegani/sma-group-e-project/data//models//test/mw_test_2020-11-04-0001/mw_test_2020-11-04-0001\n",
      "/software/amuse/amuse-13.0-python3-fedora31/lib/python3.7/site-packages/amuse/support/literature.py:78: AmuseWarning: \n",
      "\n",
      "You have used the following codes, which contain literature references:\n",
      "\n",
      "\t\"GalactICsInterface\"\n",
      "\t\tKuijken K., Dubinski J., 1995, MNRAS, 277, 1341 (original version)\n",
      "\t\tWidrow L.M., Dubinski J., 2005, ApJ, 631, 838 (2nd version)\n",
      "\t\tWidrow L.M., Pym B., Dubinski J., 2008, ApJ, 679, 1239 (current version)\n",
      "\n",
      "\n",
      "\t\"AMUSE\"\n",
      "\t\tPortegies Zwart, S. & McMillan, S.L.W., 2018, \"Astrophysical Recipes: the art of AMUSE\", AAS IOP Astronomy publishing (411 pages) [2018araa.book.....P]\n",
      "\t\t** Portegies Zwart, S. et al., 2013, Multi-physics Simulations Using a Hierarchical Interchangeable Software Interface, Computer Physics Communications 183, 456-468 [2013CoPhC.183..456P]\n",
      "\t\t** Pelupessy, F. I. et al., 2013, The Astrophysical Multipurpose Software Environment, Astronomy and Astrophysics 557, 84 [2013A&A...557A..84P]\n",
      "\t\tPortegies Zwart, S. et al., 2009, A multiphysics and multiscale software environment for modeling astrophysical systems, *New Astronomy*, **Volume 14**, **Issue 4**, 369-378 [2009NewA...14..369P]\n",
      "\n",
      "  warnings.warn(prefix + self.all_literature_references_string(), exceptions.AmuseWarning)\n",
      "Elapsed:2:26.27,User=274.541,System=14.850,CPU=197.8%.\n"
     ]
    }
   ],
   "source": [
    "!mpiexec amuse data_path_system_test.py"
   ]
  }
 ],
 "metadata": {
  "kernelspec": {
   "display_name": "Python 3",
   "language": "python",
   "name": "python3"
  },
  "language_info": {
   "codemirror_mode": {
    "name": "ipython",
    "version": 3
   },
   "file_extension": ".py",
   "mimetype": "text/x-python",
   "name": "python",
   "nbconvert_exporter": "python",
   "pygments_lexer": "ipython3",
   "version": "3.7.9"
  }
 },
 "nbformat": 4,
 "nbformat_minor": 2
}
