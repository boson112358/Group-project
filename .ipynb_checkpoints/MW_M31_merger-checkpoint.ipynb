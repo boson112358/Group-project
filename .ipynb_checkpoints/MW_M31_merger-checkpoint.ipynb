{
 "cells": [
  {
   "cell_type": "code",
   "execution_count": null,
   "metadata": {},
   "outputs": [],
   "source": [
    "import os\n",
    "import matplotlib as mpl\n",
    "if os.environ.get('DISPLAY','') == '' and os.name != 'nt':\n",
    "    print('No display found. Using non-interactive Agg backend for matplotlib')\n",
    "    mpl.use('Agg')"
   ]
  },
  {
   "cell_type": "code",
   "execution_count": null,
   "metadata": {},
   "outputs": [],
   "source": [
    "import numpy as np\n",
    "import matplotlib.pyplot as plt\n",
    "import random\n",
    "import math\n",
    "\n",
    "import inspect\n",
    "import sys\n",
    "\n",
    "#finds script path\n",
    "filename = inspect.getframeinfo(inspect.currentframe()).filename\n",
    "SCRIPT_PATH = os.path.dirname(os.path.abspath(filename))\n",
    "#add progressbar path to possible paths to import modules\n",
    "sys.path.insert(1, SCRIPT_PATH + '/python-progressbar/')"
   ]
  },
  {
   "cell_type": "code",
   "execution_count": null,
   "metadata": {},
   "outputs": [],
   "source": [
    "plot_folders = [SCRIPT_PATH + '/plots', \n",
    "                SCRIPT_PATH + '/plots/merger_plots',\n",
    "                SCRIPT_PATH + '/plots/solar_system_plots']\n",
    "\n",
    "for folder in plot_folders:\n",
    "    if not os.path.exists(folder):\n",
    "        os.makedirs(folder)\n",
    "    \n",
    "gal_folder = SCRIPT_PATH + '/galaxies/data'\n",
    "\n",
    "if not os.path.exists(gal_folder):\n",
    "    os.makedirs(gal_folder)"
   ]
  },
  {
   "cell_type": "code",
   "execution_count": null,
   "metadata": {},
   "outputs": [],
   "source": [
    "from amuse.lab import *\n",
    "from amuse.ext.galactics_model import new_galactics_model\n",
    "from amuse.couple import bridge"
   ]
  },
  {
   "cell_type": "code",
   "execution_count": null,
   "metadata": {},
   "outputs": [],
   "source": [
    "#ignore warnings (AmuseWarning at end of simulation)\n",
    "\n",
    "import warnings\n",
    "\n",
    "warnings.filterwarnings('ignore')"
   ]
  },
  {
   "cell_type": "code",
   "execution_count": null,
   "metadata": {},
   "outputs": [],
   "source": [
    "#defines parser for terminal usage\n",
    "import argparse\n",
    "\n",
    "parser = argparse.ArgumentParser()\n",
    "parser.add_argument('--plot', \n",
    "                    help='Allow output plots', \n",
    "                    action='store_true')\n",
    "parser.add_argument('--solar', \n",
    "                    help='Add solar system', \n",
    "                    action='store_true')\n",
    "parser.add_argument('--disk', \n",
    "                    help='Add test disk to MW', \n",
    "                    action='store_true')\n",
    "parser.add_argument('--igm', \n",
    "                    help='Add IGM', \n",
    "                    action='store_true')\n",
    "parser.add_argument('--test', \n",
    "                    help='Use test initial conditions', \n",
    "                    action='store_true')\n",
    "parser.add_argument('-f', \n",
    "                    help='Foo value, defined for jupyter notebook compatibility')\n",
    "args = parser.parse_args()\n",
    "\n",
    "PLOT = args.plot\n",
    "SOLAR = args.solar\n",
    "DISK = args.disk\n",
    "IGM = args.igm\n",
    "TEST = args.test\n",
    "\n",
    "if PLOT:\n",
    "    print('Plots turned on', flush=True)"
   ]
  },
  {
   "cell_type": "code",
   "execution_count": null,
   "metadata": {},
   "outputs": [],
   "source": [
    "#progressbar import\n",
    "\n",
    "import progressbar as pbar\n",
    "import progressbar.widgets as pbwg"
   ]
  },
  {
   "cell_type": "code",
   "execution_count": null,
   "metadata": {},
   "outputs": [],
   "source": [
    "#Galaxies starting conditions\n",
    "M_galaxy = 1.0e12 | units.MSun\n",
    "R_galaxy = 10 | units.kpc\n",
    "MW_velocity_vector = (0, 0, 0) | (units.km/units.s)       #Velocity at which the milkyway is traveling\n",
    "t_end = 1100 | units.Myr\n",
    "\n",
    "#Solar system starting conditions\n",
    "n_stars=10                                       #How many particles we will add\n",
    "solar_radial_distance = 8.2\n",
    "solar_position = (-np.sqrt(0.5 * solar_radial_distance**2),\n",
    "                  np.sqrt(0.5 * solar_radial_distance**2),\n",
    "                  0) | units.kpc                 #If we displace MW, we can do it through this vector aswell\n",
    "system_radius = 0.100 | units.kpc                #neighbourhood in which we distribute our stars\n",
    "solar_tang_velocity = 220 | (units.km/units.s)   #This is roughly the velocity of solarsystem around MW\n",
    "\n",
    "#Intergal medium starting conditions\n",
    "N1 = 5000\n",
    "N2 = 1000\n",
    "L = 10 | units.kpc\n",
    "rho = 1000 | units.MSun / (units.kpc)**3\n",
    "u = 1.6e+15 | (units.m)**2 / (units.s)**2"
   ]
  },
  {
   "cell_type": "code",
   "execution_count": null,
   "metadata": {},
   "outputs": [],
   "source": [
    "from galaxies import galaxies as gal\n",
    "from stars import solar_system as sol\n",
    "from intergal_medium import IGM_homogenous_Gadget2 as igm"
   ]
  },
  {
   "cell_type": "code",
   "execution_count": null,
   "metadata": {},
   "outputs": [],
   "source": [
    "#Galaxy initialization\n",
    "if not TEST:\n",
    "    n_bulge = 10000\n",
    "    n_disk = 10000\n",
    "    n_halo = 20000\n",
    "    \n",
    "    mw_data = SCRIPT_PATH + '/galaxies/data/MW_full' \n",
    "    m31_data = SCRIPT_PATH + '/galaxies/data/M31_full'\n",
    "\n",
    "    if not os.path.exists(mw_data) and not os.path.exists(m31_data):\n",
    "        M31, MW, converter = gal.make_galaxies(M_galaxy, R_galaxy, n_halo, n_bulge, n_disk, SCRIPT_PATH, test=TEST)\n",
    "        \n",
    "    if os.path.exists(mw_data) and os.path.exists(m31_data):\n",
    "        widgets = ['Loading galaxies data: ', pbwg.AnimatedMarker(), pbwg.EndMsg()]\n",
    "        with pbar.ProgressBar(widgets=widgets, fd=sys.stdout) as progress:\n",
    "            converter = nbody_system.nbody_to_si(M_galaxy, R_galaxy)\n",
    "            MW = read_set_from_file(mw_data, \"hdf5\")\n",
    "            M31 = read_set_from_file(m31_data, 'hdf5')\n",
    "        \n",
    "if TEST:\n",
    "    print('Using test initial conditions', flush=True)\n",
    "    n_bulge = 750\n",
    "    n_disk = 750\n",
    "    n_halo = 1500\n",
    "    \n",
    "    mw_data = SCRIPT_PATH + '/galaxies/data/MW_test' \n",
    "    m31_data = SCRIPT_PATH + '/galaxies/data/M31_test'\n",
    "\n",
    "    if not os.path.exists(mw_data) and not os.path.exists(m31_data):\n",
    "        M31, MW, converter = gal.make_galaxies(M_galaxy, R_galaxy, n_halo, n_bulge, n_disk, SCRIPT_PATH, test=TEST)\n",
    "        \n",
    "    if os.path.exists(mw_data) and os.path.exists(m31_data):\n",
    "        widgets = ['Loading galaxies data: ', pbwg.AnimatedMarker(), pbwg.EndMsg()]\n",
    "        with pbar.ProgressBar(widgets=widgets, fd=sys.stdout) as progress:\n",
    "            converter = nbody_system.nbody_to_si(M_galaxy, R_galaxy)\n",
    "            MW = read_set_from_file(mw_data, \"hdf5\")\n",
    "            M31 = read_set_from_file(m31_data, 'hdf5')"
   ]
  },
  {
   "cell_type": "code",
   "execution_count": null,
   "metadata": {},
   "outputs": [],
   "source": [
    "if all(value == False for value in [SOLAR, DISK, IGM]):\n",
    "    print('Simulating merger with no additional components ...', flush=True)\n",
    "    gal.simulate_merger(M31, MW, converter, n_halo, t_end, SCRIPT_PATH, plot=PLOT)\n",
    "    \n",
    "if DISK:\n",
    "    print('Simulating merger with disk test particles ...', flush=True)\n",
    "    test_disk = gal.test_particles(MW, n_halo, n_bulge, n_disk)\n",
    "    gal.simulate_merger_with_particles(M31, MW, converter, n_halo, n_bulge, n_disk, t_end, SCRIPT_PATH, plot=PLOT)\n",
    "\n",
    "if SOLAR:\n",
    "    print('Simulating MW with solar system ...', flush=True)\n",
    "    MW.position += [100.0, 100.0, 0] | units.kpc\n",
    "    t_end = 400 | units.Myr\n",
    "    #MW.rotate(-np.pi/4, -np.pi/4, 0.0)\n",
    "    stars = sol.make_solar_system(n_stars, solar_position, system_radius, MW_velocity_vector, solar_tang_velocity)\n",
    "    gal.mw_and_stars(MW, stars, converter, sol.leapfrog_alg, n_halo, t_end, SCRIPT_PATH, plot=PLOT)"
   ]
  },
  {
   "cell_type": "code",
   "execution_count": null,
   "metadata": {},
   "outputs": [],
   "source": [
    "if IGM:\n",
    "    print('Simulating merger with IGM ...', flush=True)\n",
    "    widgets = ['Building IGM: ', pbwg.AnimatedMarker(), ' ',\n",
    "               pbwg.Timer(), pbwg.EndMsg()]\n",
    "    with pbar.ProgressBar(widgets=widgets, fd=sys.stdout) as progress:\n",
    "        sph_code = igm.setup_sph_code(Gadget2, N1, N2, L, rho, u)\n",
    "\n",
    "    gal.merger_and_igm(galaxy1, galaxy2, converter, sph_code, n_halo, t_end, SCRIPT_PATH, plot=PLOT)"
   ]
  }
 ],
 "metadata": {
  "kernelspec": {
   "display_name": "Python 3",
   "language": "python",
   "name": "python3"
  },
  "language_info": {
   "codemirror_mode": {
    "name": "ipython",
    "version": 3
   },
   "file_extension": ".py",
   "mimetype": "text/x-python",
   "name": "python",
   "nbconvert_exporter": "python",
   "pygments_lexer": "ipython3",
   "version": "3.7.9"
  }
 },
 "nbformat": 4,
 "nbformat_minor": 4
}
