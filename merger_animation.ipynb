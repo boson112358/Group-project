{
 "cells": [
  {
   "cell_type": "code",
   "execution_count": 1,
   "metadata": {},
   "outputs": [],
   "source": [
    "import os\n",
    "import inspect\n",
    "import sys\n",
    "\n",
    "#finds script path\n",
    "filename = inspect.getframeinfo(inspect.currentframe()).filename\n",
    "SCRIPT_PATH = os.path.dirname(os.path.abspath(filename))"
   ]
  },
  {
   "cell_type": "code",
   "execution_count": 2,
   "metadata": {},
   "outputs": [],
   "source": [
    "ani_folder = SCRIPT_PATH + '/animations/'\n",
    "\n",
    "if not os.path.exists(ani_folder):\n",
    "    os.makedirs(ani_folder)\n",
    "    \n",
    "plots_folder_merger = SCRIPT_PATH + '/plots/merger_plots/'\n",
    "plots_folder_solar = SCRIPT_PATH + '/plots/solar_system_plots/'"
   ]
  },
  {
   "cell_type": "code",
   "execution_count": 3,
   "metadata": {},
   "outputs": [],
   "source": [
    "import imageio"
   ]
  },
  {
   "cell_type": "code",
   "execution_count": 8,
   "metadata": {},
   "outputs": [],
   "source": [
    "#solar animation\n",
    "filenames_solar_list = []\n",
    "for (dirpath, dirnames, filenames) in os.walk(plots_folder_solar):\n",
    "    filenames_solar_list.extend(filenames)\n",
    "    break\n",
    "    \n",
    "filenames_solar_list.sort()\n",
    "\n",
    "images = []\n",
    "\n",
    "for filename in filenames_solar_list:\n",
    "    images.append(imageio.imread(plots_folder_solar + filename))\n",
    "imageio.mimsave(ani_folder + 'solar_system_anim.gif', images, duration=0.2)"
   ]
  },
  {
   "cell_type": "code",
   "execution_count": 4,
   "metadata": {},
   "outputs": [],
   "source": [
    "#merger animation\n",
    "filenames_merger_list = []\n",
    "for (dirpath, dirnames, filenames) in os.walk(plots_folder_merger):\n",
    "    filenames_merger_list.extend(filenames)\n",
    "    break\n",
    "    \n",
    "filenames_merger_list.sort()\n",
    "\n",
    "images = []\n",
    "\n",
    "for filename in filenames_merger_list:\n",
    "    images.append(imageio.imread(plots_folder_merger + filename))\n",
    "imageio.mimsave(ani_folder + 'MW_M31_merger_anim_2.gif', images, duration=0.2)"
   ]
  },
  {
   "cell_type": "code",
   "execution_count": null,
   "metadata": {},
   "outputs": [],
   "source": []
  }
 ],
 "metadata": {
  "kernelspec": {
   "display_name": "Python 3",
   "language": "python",
   "name": "python3"
  },
  "language_info": {
   "codemirror_mode": {
    "name": "ipython",
    "version": 3
   },
   "file_extension": ".py",
   "mimetype": "text/x-python",
   "name": "python",
   "nbconvert_exporter": "python",
   "pygments_lexer": "ipython3",
   "version": "3.7.9"
  }
 },
 "nbformat": 4,
 "nbformat_minor": 2
}
