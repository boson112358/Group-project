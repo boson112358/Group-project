{
 "cells": [
  {
   "cell_type": "code",
   "execution_count": 5,
   "metadata": {},
   "outputs": [
    {
     "name": "stdout",
     "output_type": "stream",
     "text": [
      "No display found. Using non-interactive Agg backend for matplotlib\n",
      "Using test initial conditions\n",
      "Found galaxy data in used_models/mw_test_2020-11-10-0001/, loading: | Done     \n",
      "Found galaxy data in used_models/m31_not_displaced_test_2020-11-10-0001/, loading: | Done\n",
      "Adjusting relative velocities and orientations: | Done                         \n",
      "Simulating merger with Solar System (n = 1000)\n",
      "t = 150 Myr, t step = 5\n",
      "MW mass = 1e+12 MSun, M31 mass = 1e+12 MSun\n",
      "m31 radial velocity factor = 1.0 * 117\n",
      "m31 transverse velocity factor = 1.0 * 42\n",
      "Step 31 of 31 [======================================]100% - Time: 0:01:11 Done\n",
      "/data1/brentegani/sma-group-e-project/modules/simulations/simulations.py:188: UserWarning: Log scale: values of z <= 0 have been masked\n",
      "  extent=[xbins.min(),xbins.max(),ybins.min(),ybins.max()], cmap='cool')\n",
      "/software/amuse/amuse-13.0-python3-fedora31/lib/python3.7/site-packages/amuse/support/literature.py:78: AmuseWarning: \n",
      "\n",
      "You have used the following codes, which contain literature references:\n",
      "\n",
      "\t\"Gadget2Interface\"\n",
      "\t\tSpringel V., 2005, MNRAS, 364, 1105  (GADGET-2)\n",
      "\t\tSpringel V., Yoshida N., White S. D. M., 2001, New Astronomy, 6, 51  (GADGET-1)\n",
      "\t\tDurier F., Dalla Vecchia C., 2011, MNRAS (Time integration scheme fix)\n",
      "\n",
      "\n",
      "\t\"AMUSE\"\n",
      "\t\tPortegies Zwart, S. & McMillan, S.L.W., 2018, \"Astrophysical Recipes: the art of AMUSE\", AAS IOP Astronomy publishing (411 pages) [2018araa.book.....P]\n",
      "\t\t** Portegies Zwart, S. et al., 2013, Multi-physics Simulations Using a Hierarchical Interchangeable Software Interface, Computer Physics Communications 183, 456-468 [2013CoPhC.183..456P]\n",
      "\t\t** Pelupessy, F. I. et al., 2013, The Astrophysical Multipurpose Software Environment, Astronomy and Astrophysics 557, 84 [2013A&A...557A..84P]\n",
      "\t\tPortegies Zwart, S. et al., 2009, A multiphysics and multiscale software environment for modeling astrophysical systems, *New Astronomy*, **Volume 14**, **Issue 4**, 369-378 [2009NewA...14..369P]\n",
      "\n",
      "  warnings.warn(prefix + self.all_literature_references_string(), exceptions.AmuseWarning)\n",
      "Elapsed:1:25.48,User=356.085,System=31.249,CPU=453.1%.\n"
     ]
    }
   ],
   "source": [
    "#!jupyter nbconvert --to script --no-prompt MW_M31_merger.ipynb\n",
    "\n",
    "!mpiexec amuse mw_m31_merger.py --test --solar --timefinal 150"
   ]
  },
  {
   "cell_type": "code",
   "execution_count": 8,
   "metadata": {
    "collapsed": true
   },
   "outputs": [
    {
     "name": "stdout",
     "output_type": "stream",
     "text": [
      "No display found. Using non-interactive Agg backend for matplotlib\n",
      "['builtins', 'os', 'matplotlib', 'numpy', 'matplotlib.pyplot', 'pandas', 'inspect', 'sys', 'argparse', 'amuse.units.units', 'amuse.units.nbody_system', 'modules.data_analysis', 'modules.galaxies', 'modules.simulations', 'modules.progressbar', 'modules.progressbar.widgets', 'types']\n",
      "Using Milky Way data\n",
      "Skipping galaxy simulation\n",
      "Skipping model analysis\n",
      "adopted galaxy model parameters:me: 0:00:00                                    \n",
      "Sersic_index: 0.937324703 default: 0.937324703\n",
      "bulge_do_center_flag: True default: True\n",
      "bulge_number_of_particles: 10000 default: 50000\n",
      "bulge_random_seed: -1 default: -1\n",
      "bulge_scale_radius: 2.43151393405e+19 m default: 3.71257383629e+21 m\n",
      "bulge_scale_velocity: 744803.687581 m * s**-1 default: 744803.687581 m * s**-1\n",
      "bulge_streaming_fraction: 0.8 default: 0.8\n",
      "disk_central_radial_velocity_dispersion: 0.7 default: 0.73\n",
      "disk_do_center_flag: True default: True\n",
      "disk_mass: 9.1108049576e+41 kg default: 4.9723e+43 kg\n",
      "disk_number_of_particles: 20000 default: 100000\n",
      "disk_outer_radius: 9.25703274384e+20 m default: 9.99759536335e+22 m\n",
      "disk_random_seed: -1 default: -1\n",
      "disk_scale_height_sech2: 1.26204213074e+19 m default: 1.23427103251e+21 m\n",
      "disk_scale_length: 8.65841129308e+19 m default: 1.43417230998e+22 m\n",
      "disk_scale_length_of_sigR2: 1.43417230998e+22 m default: 1.43417230998e+22 m\n",
      "disk_truncation_width: 3.70281309754e+21 m default: 3.70281309754e+21 m\n",
      "generate_bulge_flag: True default: True\n",
      "generate_disk_flag: True default: True\n",
      "generate_halo_flag: True default: True\n",
      "halo_do_center_flag: True default: True\n",
      "halo_inner_cusp_slope: 1.0 default: 1.0\n",
      "halo_number_of_particles: 40000 default: 200000\n",
      "halo_outer_radius: 7.40562619508e+23 m default: 7.40562619508e+23 m\n",
      "halo_outer_slope: 2.3 default: 2.3\n",
      "halo_random_seed: -1 default: -1\n",
      "halo_scale_radius: 3.99903814534e+20 m default: 1.49766303663e+22 m\n",
      "halo_scale_velocity: 756744.176158 m * s**-1 default: 756744.176158 m * s**-1\n",
      "halo_streaming_fraction: 0.5 default: 0.5\n",
      "halo_truncation_width: 2.46854206503e+23 m default: 2.46854206503e+23 m\n",
      "number_of_grid_intervals: 90000 default: 90000\n",
      "number_of_iterations_disk_df: 50 default: 50\n",
      "number_of_radial_steps_correction_fns_disk_df: 10 default: 10\n",
      "order_of_multipole_expansion: 10 default: 10\n",
      "output_directory: /data1/brentegani/ default: ./\n",
      "radial_grid_delta_r: 2.46854206503e+19 m default: 2.46854206503e+19 m\n",
      "\n",
      "/data1/brentegani/model26607634999826361990                                    \n",
      "Writing output to: /data1/brentegani/model2660763499982636199\n",
      "(stdout, stderr) = b\" Include halo?\\n outer radius, v0, a, drtrunchalo?\\n Include disk?\\n Disk mass, scale length, rad, scale height,trunc width\\n Include bulge?\\n sersic, ppp, v0_bulge, a_bulge?\\n Include blackhole?\\n radial step size, no. of bins?\\n max. azimuthal harmonic l?\\nIter   0: lmax=   0, tidal radius is outside grid\\nIter   1: lmax=   0, tidal radius is infinite\\nIter   2: lmax=   0, tidal radius is     6.49744    \\nIter   3: lmax=   0, tidal radius is     16.8878    \\nIter   4: lmax=   0, tidal radius is     49.3216    \\nIter   5: lmax=   0, tidal radius is     124.070    \\nIter   6: lmax=   0, tidal radius is     184.745    \\nIter   7: lmax=   0, tidal radius is infinite\\nIter   8: lmax=   0, tidal radius is infinite\\nIter   9: lmax=   0, tidal radius is     141.518    \\nIter  10: lmax=   0, tidal radius is     176.494    \\nIter  11: lmax=   0, tidal radius is     264.453    \\nIter  12: lmax=   0, tidal radius is     444.867    \\nIter  13: lmax=   0, tidal radius is     706.458    \\nIter  14: lmax=   0, tidal radius is outside grid\\nIter  15: lmax=   0, tidal radius is outside grid\\nIter  16: lmax=   0, tidal radius is     793.974    \\nIter  17: lmax=   0, tidal radius is     676.137    \\nIter  18: lmax=   0, tidal radius is     597.471    \\nIter  19: lmax=   0, tidal radius is     551.258    \\nIter  20: lmax=   0, tidal radius is     528.456    \\nIter  21: lmax=   0, tidal radius is     523.346    \\nIter  22: lmax=   0, tidal radius is     532.663    \\nIter  23: lmax=   0, tidal radius is     554.447    \\nIter  24: lmax=   0, tidal radius is     587.494    \\nIter  25: lmax=   0, tidal radius is     629.738    \\nIter  26: lmax=   0, tidal radius is     678.134    \\nIter  27: lmax=   0, tidal radius is     728.238    \\nIter  28: lmax=   0, tidal radius is     775.479    \\nIter  29: lmax=   0, tidal radius is     814.583    \\nIter  30: lmax=   0, tidal radius is     843.083    \\nIter  31: lmax=   0, tidal radius is     860.218    \\nIter  32: lmax=   0, tidal radius is     868.518    \\nIter  33: lmax=   0, tidal radius is     869.848    \\nIter  34: lmax=   0, tidal radius is     866.278    \\nIter  35: lmax=   0, tidal radius is     860.578    \\nIter  36: lmax=   0, tidal radius is     854.443    \\nIter  37: lmax=   0, tidal radius is     848.316    \\nIter  38: lmax=   0, tidal radius is     842.016    \\nIter  39: lmax=   0, tidal radius is     837.213    \\nIter  40: lmax=   0, tidal radius is     833.306    \\nIter  41: lmax=   0, tidal radius is     830.363    \\nIter  42: lmax=   0, tidal radius is     827.943    \\nIter  43: lmax=   0, tidal radius is     826.206    \\nIter  44: lmax=   0, tidal radius is     824.808    \\nIter  45: lmax=   0, tidal radius is     824.413    \\nIter  46: lmax=   0, tidal radius is     823.658    \\nIter  47: lmax=   0, tidal radius is     823.616    \\nIter  48: lmax=   0, tidal radius is     823.516    \\nIter  49: lmax=   0, tidal radius is     823.498    \\nIter  50: lmax=   0, tidal radius is     823.783    \\nIter  51: lmax=   0, tidal radius is     823.553    \\nIter  52: lmax=   0, tidal radius is     824.048    \\nIter  53: lmax=   0, tidal radius is     824.208    \\nIter  54: lmax=   0, tidal radius is     824.343    \\nIter  55: lmax=   0, tidal radius is     824.368    \\nIter  56: lmax=   0, tidal radius is     824.443    \\nIter  57: lmax=   0, tidal radius is     824.453    \\nIter  58: lmax=   0, tidal radius is     824.683    \\nIter  59: lmax=   0, tidal radius is     824.898    \\nIter  60: lmax=   0, tidal radius is     824.618    \\nIter  61: lmax=   0, tidal radius is     824.868    \\nIter  62: lmax=   0, tidal radius is     824.848    \\nIter  63: lmax=   0, tidal radius is     824.638    \\nIter  64: lmax=   0, tidal radius is     824.803    \\nIter  65: lmax=   0, tidal radius is     825.013    \\nIter  66: lmax=   0, tidal radius is     825.018    \\nIter  67: lmax=   2, tidal radius is     824.813    \\nIter  68: lmax=   4, tidal radius is     878.186    \\nIter  69: lmax=   6, tidal radius is     740.673    \\nIter  70: lmax=   8, tidal radius is     757.126    \\nIter  71: lmax=  10, tidal radius is     841.476    \\nIter  72: lmax=  10, tidal radius is outside grid\\nIter  73: lmax=  10, tidal radius is outside grid\\nIter  74: lmax=  10, tidal radius is outside grid\\nIter  75: lmax=  10, tidal radius is     856.606    \\nIter  76: lmax=  10, tidal radius is     810.653    \\nIter  77: lmax=  10, tidal radius is     780.098    \\nIter  78: lmax=  10, tidal radius is     764.348    \\nIter  79: lmax=  10, tidal radius is     760.408    \\nIter  80: lmax=  10, tidal radius is     765.078    \\nIter  81: lmax=  10, tidal radius is     775.673    \\nIter  82: lmax=  10, tidal radius is     789.323    \\nIter  83: lmax=  10, tidal radius is     803.058    \\nIter  84: lmax=  10, tidal radius is     815.623    \\nIter  85: lmax=  10, tidal radius is     825.568    \\nIter  86: lmax=  10, tidal radius is     832.668    \\nIter  87: lmax=  10, tidal radius is     836.606    \\nIter  88: lmax=  10, tidal radius is     838.303    \\nIter  89: lmax=  10, tidal radius is     838.158    \\nIter  90: lmax=  10, tidal radius is     837.068    \\nIter  91: lmax=  10, tidal radius is     835.313    \\nIter  92: lmax=  10, tidal radius is     832.903    \\nIter  93: lmax=  10, tidal radius is     830.783    \\nIter  94: lmax=  10, tidal radius is     828.886    \\nIter  95: lmax=  10, tidal radius is     826.868    \\nIter  96: lmax=  10, tidal radius is     825.866    \\nIter  97: lmax=  10, tidal radius is     824.583    \\nIter  98: lmax=  10, tidal radius is     823.973    \\nIter  99: lmax=  10, tidal radius is     823.246    \\nIter 100: lmax=  10, tidal radius is     822.763    \\n Total mass=   476.612946    \\n Halo mass =   475.973755    \\n Halo edge radius =   822.750000    \\n Halo harmonics written to file 'h.dat'.\\n Bulge mass =  0.136870280    \\n Bulge edge radius =   822.750000    \\n Bulge harmonics written to file 'b.dat'.\\n Final model written to file 'dbh.dat'.\\n   822.750000    \\n\" b''\n",
      "(stdout, stderr) = b'' b' Harmonics up to l=  10\\n Harmonics up to l=  10\\n'\n"
     ]
    },
    {
     "name": "stdout",
     "output_type": "stream",
     "text": [
      "(stdout, stderr) = b'' b' Central velocity dispersion, scale length of sigR**2?\\n number of radial steps for correction fns (min. 6)?\\n number of iterations?\\n wrote a table of frequencies in file omekap.dat.\\n Toomre Q =    2.74700046      at R = 2.5 R_d\\n\\n      r:  0.000 0.338 0.675 1.013 1.350 1.688 2.025 2.362 2.700 3.038 3.375\\n 0.000  d 1.000 7.675******************************************************\\n 0.005  d 1.78510.648******************************************************\\n\\n      r:  0.000 0.338 0.675 1.013 1.350 1.688 2.025 2.362 2.700 3.038 3.375\\n 0.000  d 1.000 3.161******************************************************\\n 0.005  d 1.000 4.003******************************************************\\n\\n      r:  0.000 0.338 0.675 1.013 1.350 1.688 2.025 2.362 2.700 3.038 3.375\\n 0.000  d 1.000 2.613******************************************************\\n 0.005  d 1.000 3.170******************************************************\\n\\n      r:  0.000 0.338 0.675 1.013 1.350 1.688 2.025 2.362 2.700 3.038 3.375\\n 0.000  d 1.000 2.458******************************************************\\n 0.005  d 1.000 2.878******************************************************\\n\\n      r:  0.000 0.338 0.675 1.013 1.350 1.688 2.025 2.362 2.700 3.038 3.375\\n 0.000  d 1.000 2.401******************************************************\\n 0.005  d 1.000 2.739******************************************************\\n\\n      r:  0.000 0.338 0.675 1.013 1.350 1.688 2.025 2.362 2.700 3.038 3.375\\n 0.000  d 1.000 2.378******************************************************\\n 0.005  d 1.000 2.661******************************************************\\n\\n      r:  0.000 0.338 0.675 1.013 1.350 1.688 2.025 2.362 2.700 3.038 3.375\\n 0.000  d 1.000 2.369******************************************************\\n 0.005  d 1.000 2.614******************************************************\\n\\n      r:  0.000 0.338 0.675 1.013 1.350 1.688 2.025 2.362 2.700 3.038 3.375\\n 0.000  d 1.000 2.365******************************************************\\n 0.005  d 1.000 2.582******************************************************\\n\\n      r:  0.000 0.338 0.675 1.013 1.350 1.688 2.025 2.362 2.700 3.038 3.375\\n 0.000  d 1.000 2.363******************************************************\\n 0.005  d 1.000 2.559******************************************************\\n\\n      r:  0.000 0.338 0.675 1.013 1.350 1.688 2.025 2.362 2.700 3.038 3.375\\n 0.000  d 1.000 2.363******************************************************\\n 0.005  d 1.000 2.541******************************************************\\n\\n      r:  0.000 0.338 0.675 1.013 1.350 1.688 2.025 2.362 2.700 3.038 3.375\\n 0.000  d 1.000 2.362******************************************************\\n 0.005  d 1.000 2.528******************************************************\\n\\n      r:  0.000 0.338 0.675 1.013 1.350 1.688 2.025 2.362 2.700 3.038 3.375\\n 0.000  d 1.000 2.362******************************************************\\n 0.005  d 1.000 2.517******************************************************\\n\\n      r:  0.000 0.338 0.675 1.013 1.350 1.688 2.025 2.362 2.700 3.038 3.375\\n 0.000  d 1.000 2.362******************************************************\\n 0.005  d 1.000 2.508******************************************************\\n\\n      r:  0.000 0.338 0.675 1.013 1.350 1.688 2.025 2.362 2.700 3.038 3.375\\n 0.000  d 1.000 2.362******************************************************\\n 0.005  d 1.000 2.500******************************************************\\n\\n      r:  0.000 0.338 0.675 1.013 1.350 1.688 2.025 2.362 2.700 3.038 3.375\\n 0.000  d 1.000 2.362******************************************************\\n 0.005  d 1.000 2.494******************************************************\\n\\n      r:  0.000 0.338 0.675 1.013 1.350 1.688 2.025 2.362 2.700 3.038 3.375\\n 0.000  d 1.000 2.362******************************************************\\n 0.005  d 1.000 2.488******************************************************\\n\\n      r:  0.000 0.338 0.675 1.013 1.350 1.688 2.025 2.362 2.700 3.038 3.375\\n 0.000  d 1.000 2.362******************************************************\\n 0.005  d 1.000 2.484******************************************************\\n\\n      r:  0.000 0.338 0.675 1.013 1.350 1.688 2.025 2.362 2.700 3.038 3.375\\n 0.000  d 1.000 2.362******************************************************\\n 0.005  d 1.000 2.480******************************************************\\n\\n      r:  0.000 0.338 0.675 1.013 1.350 1.688 2.025 2.362 2.700 3.038 3.375\\n 0.000  d 1.000 2.362******************************************************\\n 0.005  d 1.000 2.476******************************************************\\n\\n      r:  0.000 0.338 0.675 1.013 1.350 1.688 2.025 2.362 2.700 3.038 3.375\\n 0.000  d 1.000 2.362******************************************************\\n 0.005  d 1.000 2.473******************************************************\\n\\n      r:  0.000 0.338 0.675 1.013 1.350 1.688 2.025 2.362 2.700 3.038 3.375\\n 0.000  d 1.000 2.362******************************************************\\n 0.005  d 1.000 2.470******************************************************\\n\\n      r:  0.000 0.338 0.675 1.013 1.350 1.688 2.025 2.362 2.700 3.038 3.375\\n 0.000  d 1.000 2.362******************************************************\\n 0.005  d 1.000 2.468******************************************************\\n\\n      r:  0.000 0.338 0.675 1.013 1.350 1.688 2.025 2.362 2.700 3.038 3.375\\n 0.000  d 1.000 2.362******************************************************\\n 0.005  d 1.000 2.465******************************************************\\n\\n      r:  0.000 0.338 0.675 1.013 1.350 1.688 2.025 2.362 2.700 3.038 3.375\\n 0.000  d 1.000 2.362******************************************************\\n 0.005  d 1.000 2.463******************************************************\\n\\n      r:  0.000 0.338 0.675 1.013 1.350 1.688 2.025 2.362 2.700 3.038 3.375\\n 0.000  d 1.000 2.362******************************************************\\n 0.005  d 1.000 2.461******************************************************\\n\\n      r:  0.000 0.338 0.675 1.013 1.350 1.688 2.025 2.362 2.700 3.038 3.375\\n 0.000  d 1.000 2.362******************************************************\\n 0.005  d 1.000 2.460******************************************************\\n\\n      r:  0.000 0.338 0.675 1.013 1.350 1.688 2.025 2.362 2.700 3.038 3.375\\n 0.000  d 1.000 2.362******************************************************\\n 0.005  d 1.000 2.458******************************************************\\n\\n      r:  0.000 0.338 0.675 1.013 1.350 1.688 2.025 2.362 2.700 3.038 3.375\\n 0.000  d 1.000 2.362******************************************************\\n 0.005  d 1.000 2.457******************************************************\\n\\n      r:  0.000 0.338 0.675 1.013 1.350 1.688 2.025 2.362 2.700 3.038 3.375\\n 0.000  d 1.000 2.362******************************************************\\n 0.005  d 1.000 2.456******************************************************\\n\\n      r:  0.000 0.338 0.675 1.013 1.350 1.688 2.025 2.362 2.700 3.038 3.375\\n 0.000  d 1.000 2.362******************************************************\\n 0.005  d 1.000 2.454******************************************************\\n\\n      r:  0.000 0.338 0.675 1.013 1.350 1.688 2.025 2.362 2.700 3.038 3.375\\n 0.000  d 1.000 2.362******************************************************\\n 0.005  d 1.000 2.453******************************************************\\n\\n      r:  0.000 0.338 0.675 1.013 1.350 1.688 2.025 2.362 2.700 3.038 3.375\\n 0.000  d 1.000 2.362******************************************************\\n 0.005  d 1.000 2.452******************************************************\\n\\n      r:  0.000 0.338 0.675 1.013 1.350 1.688 2.025 2.362 2.700 3.038 3.375\\n 0.000  d 1.000 2.362******************************************************\\n 0.005  d 1.000 2.452******************************************************\\n\\n      r:  0.000 0.338 0.675 1.013 1.350 1.688 2.025 2.362 2.700 3.038 3.375\\n 0.000  d 1.000 2.362******************************************************\\n 0.005  d 1.000 2.451******************************************************\\n\\n      r:  0.000 0.338 0.675 1.013 1.350 1.688 2.025 2.362 2.700 3.038 3.375\\n 0.000  d 1.000 2.362******************************************************\\n 0.005  d 1.000 2.450******************************************************\\n\\n      r:  0.000 0.338 0.675 1.013 1.350 1.688 2.025 2.362 2.700 3.038 3.375\\n 0.000  d 1.000 2.362******************************************************\\n 0.005  d 1.000 2.449******************************************************\\n\\n      r:  0.000 0.338 0.675 1.013 1.350 1.688 2.025 2.362 2.700 3.038 3.375\\n 0.000  d 1.000 2.362******************************************************\\n 0.005  d 1.000 2.449******************************************************\\n\\n      r:  0.000 0.338 0.675 1.013 1.350 1.688 2.025 2.362 2.700 3.038 3.375\\n 0.000  d 1.000 2.362******************************************************\\n 0.005  d 1.000 2.448******************************************************\\n\\n      r:  0.000 0.338 0.675 1.013 1.350 1.688 2.025 2.362 2.700 3.038 3.375\\n 0.000  d 1.000 2.362******************************************************\\n 0.005  d 1.000 2.448******************************************************\\n\\n      r:  0.000 0.338 0.675 1.013 1.350 1.688 2.025 2.362 2.700 3.038 3.375\\n 0.000  d 1.000 2.362******************************************************\\n 0.005  d 1.000 2.447******************************************************\\n\\n      r:  0.000 0.338 0.675 1.013 1.350 1.688 2.025 2.362 2.700 3.038 3.375\\n 0.000  d 1.000 2.362******************************************************\\n 0.005  d 1.000 2.447******************************************************\\n\\n      r:  0.000 0.338 0.675 1.013 1.350 1.688 2.025 2.362 2.700 3.038 3.375\\n 0.000  d 1.000 2.362******************************************************\\n 0.005  d 1.000 2.446******************************************************\\n\\n      r:  0.000 0.338 0.675 1.013 1.350 1.688 2.025 2.362 2.700 3.038 3.375\\n 0.000  d 1.000 2.362******************************************************\\n 0.005  d 1.000 2.446******************************************************\\n\\n      r:  0.000 0.338 0.675 1.013 1.350 1.688 2.025 2.362 2.700 3.038 3.375\\n 0.000  d 1.000 2.362******************************************************\\n 0.005  d 1.000 2.445******************************************************\\n\\n      r:  0.000 0.338 0.675 1.013 1.350 1.688 2.025 2.362 2.700 3.038 3.375\\n 0.000  d 1.000 2.362******************************************************\\n 0.005  d 1.000 2.445******************************************************\\n\\n      r:  0.000 0.338 0.675 1.013 1.350 1.688 2.025 2.362 2.700 3.038 3.375\\n 0.000  d 1.000 2.362******************************************************\\n 0.005  d 1.000 2.445******************************************************\\n\\n      r:  0.000 0.338 0.675 1.013 1.350 1.688 2.025 2.362 2.700 3.038 3.375\\n 0.000  d 1.000 2.362******************************************************\\n 0.005  d 1.000 2.444******************************************************\\n\\n      r:  0.000 0.338 0.675 1.013 1.350 1.688 2.025 2.362 2.700 3.038 3.375\\n 0.000  d 1.000 2.362******************************************************\\n 0.005  d 1.000 2.444******************************************************\\n\\n      r:  0.000 0.338 0.675 1.013 1.350 1.688 2.025 2.362 2.700 3.038 3.375\\n 0.000  d 1.000 2.362******************************************************\\n 0.005  d 1.000 2.444******************************************************\\n\\n      r:  0.000 0.338 0.675 1.013 1.350 1.688 2.025 2.362 2.700 3.038 3.375\\n 0.000  d 1.000 2.362******************************************************\\n 0.005  d 1.000 2.444******************************************************\\n\\n      r:  0.000 0.338 0.675 1.013 1.350 1.688 2.025 2.362 2.700 3.038 3.375\\n 0.000  d 1.000 2.362******************************************************\\n 0.003  d 1.000 2.251******************************************************\\n 0.005  d 1.000 2.443******************************************************\\n 0.008  d 1.000 3.363******************************************************\\n 0.010  d 1.000 5.948******************************************************\\n'Building mw galaxy: | Elapsed Time: 0:02:50                                    \r"
     ]
    },
    {
     "name": "stdout",
     "output_type": "stream",
     "text": [
      "Building mw galaxy: | Elapsed Time: 0:03:29                                    \n",
      "Warning: do_scale for a large galactics model may be very slow\n",
      "Warning: do_scale typically changes the galaxy scale parameters quite a lot from the input parameters\n",
      "Building mw galaxy: | Elapsed Time: 0:03:51 Done                               \n",
      "Saving mw galaxy data in /data1/brentegani/sma-group-e-project/data//models//test/mw_test_2020-11-27-0003/: | Done\n",
      "/software/amuse/amuse-13.0-python3-fedora31/lib/python3.7/site-packages/amuse/units/quantities.py:1379: RuntimeWarning: divide by zero encountered in true_divide\n",
      "  return numpy.true_divide(array, other, out)\n",
      "/software/amuse/amuse-13.0-python3-fedora31/lib/python3.7/site-packages/amuse/support/literature.py:78: AmuseWarning: \n",
      "\n",
      "You have used the following codes, which contain literature references:\n",
      "\n",
      "\t\"GalactICsInterface\"\n",
      "\t\tKuijken K., Dubinski J., 1995, MNRAS, 277, 1341 (original version)\n",
      "\t\tWidrow L.M., Dubinski J., 2005, ApJ, 631, 838 (2nd version)\n",
      "\t\tWidrow L.M., Pym B., Dubinski J., 2008, ApJ, 679, 1239 (current version)\n",
      "\n",
      "\n",
      "\t\"AMUSE\"\n",
      "\t\tPortegies Zwart, S. & McMillan, S.L.W., 2018, \"Astrophysical Recipes: the art of AMUSE\", AAS IOP Astronomy publishing (411 pages) [2018araa.book.....P]\n",
      "\t\t** Portegies Zwart, S. et al., 2013, Multi-physics Simulations Using a Hierarchical Interchangeable Software Interface, Computer Physics Communications 183, 456-468 [2013CoPhC.183..456P]\n",
      "\t\t** Pelupessy, F. I. et al., 2013, The Astrophysical Multipurpose Software Environment, Astronomy and Astrophysics 557, 84 [2013A&A...557A..84P]\n",
      "\t\tPortegies Zwart, S. et al., 2009, A multiphysics and multiscale software environment for modeling astrophysical systems, *New Astronomy*, **Volume 14**, **Issue 4**, 369-378 [2009NewA...14..369P]\n",
      "\n",
      "  warnings.warn(prefix + self.all_literature_references_string(), exceptions.AmuseWarning)\n",
      "Elapsed:3:54.96,User=423.481,System=20.560,CPU=188.9%.\n"
     ]
    }
   ],
   "source": [
    "!mpiexec amuse model_test.py --generation --mway"
   ]
  },
  {
   "cell_type": "code",
   "execution_count": 1,
   "metadata": {},
   "outputs": [
    {
     "name": "stdout",
     "output_type": "stream",
     "text": [
      "Warning: do_scale for a large galactics model may be very slow                 \n",
      "Building test galaxy: | Elapsed Time: 0:02:24 Done                             \n",
      "Saving mw galaxy data: | Done                                                  \n",
      "/data1/brentegani/sma-group-e-project/data//models//test/mw_test_2020-11-04-0001/mw_test_2020-11-04-0001\n",
      "/software/amuse/amuse-13.0-python3-fedora31/lib/python3.7/site-packages/amuse/support/literature.py:78: AmuseWarning: \n",
      "\n",
      "You have used the following codes, which contain literature references:\n",
      "\n",
      "\t\"GalactICsInterface\"\n",
      "\t\tKuijken K., Dubinski J., 1995, MNRAS, 277, 1341 (original version)\n",
      "\t\tWidrow L.M., Dubinski J., 2005, ApJ, 631, 838 (2nd version)\n",
      "\t\tWidrow L.M., Pym B., Dubinski J., 2008, ApJ, 679, 1239 (current version)\n",
      "\n",
      "\n",
      "\t\"AMUSE\"\n",
      "\t\tPortegies Zwart, S. & McMillan, S.L.W., 2018, \"Astrophysical Recipes: the art of AMUSE\", AAS IOP Astronomy publishing (411 pages) [2018araa.book.....P]\n",
      "\t\t** Portegies Zwart, S. et al., 2013, Multi-physics Simulations Using a Hierarchical Interchangeable Software Interface, Computer Physics Communications 183, 456-468 [2013CoPhC.183..456P]\n",
      "\t\t** Pelupessy, F. I. et al., 2013, The Astrophysical Multipurpose Software Environment, Astronomy and Astrophysics 557, 84 [2013A&A...557A..84P]\n",
      "\t\tPortegies Zwart, S. et al., 2009, A multiphysics and multiscale software environment for modeling astrophysical systems, *New Astronomy*, **Volume 14**, **Issue 4**, 369-378 [2009NewA...14..369P]\n",
      "\n",
      "  warnings.warn(prefix + self.all_literature_references_string(), exceptions.AmuseWarning)\n",
      "Elapsed:2:26.27,User=274.541,System=14.850,CPU=197.8%.\n"
     ]
    }
   ],
   "source": [
    "!mpiexec amuse data_path_system_test.py"
   ]
  }
 ],
 "metadata": {
  "kernelspec": {
   "display_name": "Python 3",
   "language": "python",
   "name": "python3"
  },
  "language_info": {
   "codemirror_mode": {
    "name": "ipython",
    "version": 3
   },
   "file_extension": ".py",
   "mimetype": "text/x-python",
   "name": "python",
   "nbconvert_exporter": "python",
   "pygments_lexer": "ipython3",
   "version": "3.7.9"
  }
 },
 "nbformat": 4,
 "nbformat_minor": 2
}
