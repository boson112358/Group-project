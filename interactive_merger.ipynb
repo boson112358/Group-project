{
 "cells": [
  {
   "cell_type": "code",
   "execution_count": 21,
   "metadata": {},
   "outputs": [
    {
     "name": "stdout",
     "output_type": "stream",
     "text": [
      "[NbConvertApp] Converting notebook MW_M31_merger.ipynb to script\n",
      "[NbConvertApp] Writing 8812 bytes to MW_M31_merger.py\n",
      "No display found. Using non-interactive Agg backend for matplotlib\n",
      "Using test initial conditions\n",
      "Building mw galaxy: | Elapsed Time: 0:03:12 Done                               \n",
      "Saving mw galaxy data: | Done                                                  \n",
      "Building m31_not_displaced galaxy: | Elapsed Time: 0:02:27 Done                \n",
      "Saving m31_not_displaced galaxy data: | Done                                   \n",
      "Quitting after galaxy initialization\n",
      "Elapsed:5:42.81,User=647.055,System=34.244,CPU=198.7%.\n"
     ]
    }
   ],
   "source": [
    "!jupyter nbconvert --to script --no-prompt MW_M31_merger.ipynb\n",
    "\n",
    "!mpiexec amuse MW_M31_merger.py --test --nomerger"
   ]
  },
  {
   "cell_type": "code",
   "execution_count": 23,
   "metadata": {},
   "outputs": [
    {
     "name": "stdout",
     "output_type": "stream",
     "text": [
      "No display found. Using non-interactive Agg backend for matplotlib\n",
      "Simuation test run\n",
      "Skipping model analysis\n",
      "Found galaxy data, loading: | Done                                             \n",
      "Correcting velocities and mass: ...\n",
      "v_ini = [20497.2756261, 528960.434457, -2612.92061177] m * s**-1\n",
      "v_fin = [3153.42701939, 81378.528378, -401.987786426] m * s**-1\n",
      "Galaxy total mass: 1.17678898408e+15 MSun\n",
      "Galaxy total mass: 1.17678898408e+12 MSun\n",
      "Saving plots in: /home/brentegani/Desktop/sma-group-e-project/data/sim_plots/\n",
      "Simulating mw (t = 10 Myr, step = 0 Myr) ...\n",
      "Step 109 of 109 [====================================]100% - Time: 0:00:15 Done\n",
      "Elapsed:0:19.55,User=81.829,System=13.679,CPU=488.4%.\n"
     ]
    }
   ],
   "source": [
    "!mpiexec amuse model_test.py --simulation"
   ]
  },
  {
   "cell_type": "code",
   "execution_count": 1,
   "metadata": {},
   "outputs": [
    {
     "name": "stdout",
     "output_type": "stream",
     "text": [
      "0.23.4\n"
     ]
    }
   ],
   "source": [
    "import pandas\n",
    "print(pandas.__version__)"
   ]
  }
 ],
 "metadata": {
  "kernelspec": {
   "display_name": "Python 3",
   "language": "python",
   "name": "python3"
  },
  "language_info": {
   "codemirror_mode": {
    "name": "ipython",
    "version": 3
   },
   "file_extension": ".py",
   "mimetype": "text/x-python",
   "name": "python",
   "nbconvert_exporter": "python",
   "pygments_lexer": "ipython3",
   "version": "3.7.9"
  }
 },
 "nbformat": 4,
 "nbformat_minor": 2
}
