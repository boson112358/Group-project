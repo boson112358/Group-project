{
 "cells": [
  {
   "cell_type": "code",
   "execution_count": 1,
   "metadata": {},
   "outputs": [
    {
     "name": "stdout",
     "output_type": "stream",
     "text": [
      "[NbConvertApp] Converting notebook MW_M31_merger.ipynb to script\n",
      "[NbConvertApp] Writing 8820 bytes to MW_M31_merger.py\n",
      "No display found. Using non-interactive Agg backend for matplotlib\n",
      "Using test initial conditions\n",
      "Building mw galaxy: | Elapsed Time: 0:03:12 Done                               \n",
      "Saving mw galaxy data: | Done                                                  \n",
      "Building m31_not_displaced galaxy: | Elapsed Time: 0:02:27 Done                \n",
      "Saving m31_not_displaced galaxy data: | Done                                   \n",
      "Quitting after galaxy initialization\n",
      "Elapsed:5:41.92,User=646.950,System=33.265,CPU=198.9%.\n"
     ]
    }
   ],
   "source": [
    "!jupyter nbconvert --to script --no-prompt MW_M31_merger.ipynb\n",
    "\n",
    "!mpiexec amuse MW_M31_merger.py --test --nomerger"
   ]
  },
  {
   "cell_type": "code",
   "execution_count": 44,
   "metadata": {},
   "outputs": [
    {
     "name": "stdout",
     "output_type": "stream",
     "text": [
      "No display found. Using non-interactive Agg backend for matplotlib\n",
      "Skipping galaxy simulation\n",
      "Found galaxy data, loading: | Done                                             \n",
      "Galaxy total mass: 1.17678898408e+15 MSun\n",
      "Halo particles: 40000; expected: 40000\n",
      "Disk particles: 20000; expected: 20000\n",
      "Bulge particles: 10000; expected: 10000\n",
      "Plotting galaxy structures: | Done                                             \n",
      "Found galaxy velocities data, loading: | Done                                  \n",
      "Plotting bulge velocities: | Done                                              \n",
      "Plotting galaxy rotation curve (1/6.5 of v): | Done                            \n"
     ]
    }
   ],
   "source": [
    "!mpiexec amuse model_test.py --nosimulation"
   ]
  },
  {
   "cell_type": "code",
   "execution_count": 1,
   "metadata": {},
   "outputs": [
    {
     "name": "stdout",
     "output_type": "stream",
     "text": [
      "0.23.4\n"
     ]
    }
   ],
   "source": [
    "import pandas\n",
    "print(pandas.__version__)"
   ]
  },
  {
   "cell_type": "code",
   "execution_count": null,
   "metadata": {},
   "outputs": [],
   "source": []
  }
 ],
 "metadata": {
  "kernelspec": {
   "display_name": "Python 3",
   "language": "python",
   "name": "python3"
  },
  "language_info": {
   "codemirror_mode": {
    "name": "ipython",
    "version": 3
   },
   "file_extension": ".py",
   "mimetype": "text/x-python",
   "name": "python",
   "nbconvert_exporter": "python",
   "pygments_lexer": "ipython3",
   "version": "3.7.9"
  }
 },
 "nbformat": 4,
 "nbformat_minor": 2
}
