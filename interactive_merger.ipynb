{
 "cells": [
  {
   "cell_type": "code",
   "execution_count": 30,
   "metadata": {},
   "outputs": [
    {
     "name": "stdout",
     "output_type": "stream",
     "text": [
      "[NbConvertApp] Converting notebook MW_M31_merger.ipynb to script\n",
      "[NbConvertApp] Writing 9221 bytes to MW_M31_merger.py\n",
      "No display found. Using non-interactive Agg backend for matplotlib\n",
      "Plots turned on\n",
      "Using test initial conditions\n",
      "Found galaxies data, loading: | Done                                           \n",
      "Correcting velocities and mass: ...\n",
      "Adjusting relative velocities and orientations: | Done                         \n",
      "Simulating merger with no additional components (t = 400 Myr) ...\n",
      "Step 401 of 401 [====================================]100% - Time: 0:01:56 Done\n",
      "Elapsed:2:08.98,User=585.241,System=56.337,CPU=497.4%.\n"
     ]
    }
   ],
   "source": [
    "!jupyter nbconvert --to script --no-prompt MW_M31_merger.ipynb\n",
    "\n",
    "!mpiexec amuse MW_M31_merger.py --test --plot --correction"
   ]
  },
  {
   "cell_type": "code",
   "execution_count": 47,
   "metadata": {},
   "outputs": [
    {
     "name": "stdout",
     "output_type": "stream",
     "text": [
      "No display found. Using non-interactive Agg backend for matplotlib\n",
      "Using Milky Way data\n",
      "No galaxy argument given, using Milky Way data\n",
      "Simuation test run\n",
      "Skipping model analysis\n",
      "Found galaxy data, loading: | Done                                             \n",
      "Correcting velocities and mass: ...\n",
      "v_ini = [20497.2756261, 528960.434457, -2612.92061177] m * s**-1\n",
      "v_fin = [204.972756261, 5289.60434457, -26.1292061177] m * s**-1\n",
      "Galaxy total mass: 1.17678898408e+15 MSun\n",
      "Galaxy total mass: 1.17678898408e+12 MSun\n",
      "Saving plots in: /home/brentegani/Desktop/sma-group-e-project/data/sim_plots/\n",
      "Simulating mw (t = 1000 Myr, step = 0.1 Myr) ...\n",
      "Step 10010 of 10010 [================================]100% - Time: 0:05:49 Done\n",
      "Elapsed:5:56.55,User=1725.570,System=250.013,CPU=554.0%.\n"
     ]
    }
   ],
   "source": [
    "!mpiexec amuse model_test.py --mway --correction --simulation"
   ]
  },
  {
   "cell_type": "code",
   "execution_count": 10,
   "metadata": {},
   "outputs": [],
   "source": [
    "import os\n",
    "import sys\n",
    "import inspect\n",
    "import pandas as pd\n",
    "import numpy as np\n",
    "\n",
    "#finds script path\n",
    "filename = inspect.getframeinfo(inspect.currentframe()).filename\n",
    "SCRIPT_PATH = os.path.dirname(os.path.abspath(filename))"
   ]
  },
  {
   "cell_type": "code",
   "execution_count": 11,
   "metadata": {},
   "outputs": [],
   "source": [
    "#creates csv folder\n",
    "csv_folder = SCRIPT_PATH + '/data/test_csv/'\n",
    "if not os.path.exists(csv_folder):\n",
    "    os.makedirs(csv_folder)\n",
    "    \n",
    "halo_df_path = csv_folder + 'mw_halo_velocities.csv'\n",
    "disk_df_path = csv_folder + 'mw_disk_velocities.csv'\n",
    "bulge_df_path = csv_folder + 'mw_bulge_velocities.csv'\n",
    "\n",
    "halo_df = pd.read_csv(halo_df_path)\n",
    "disk_df = pd.read_csv(disk_df_path)\n",
    "bulge_df = pd.read_csv(bulge_df_path)"
   ]
  },
  {
   "cell_type": "code",
   "execution_count": 14,
   "metadata": {},
   "outputs": [
    {
     "data": {
      "text/plain": [
       "5.79952523314"
      ]
     },
     "execution_count": 14,
     "metadata": {},
     "output_type": "execute_result"
    }
   ],
   "source": [
    "np.amax(bulge_df['com_distance'])"
   ]
  }
 ],
 "metadata": {
  "kernelspec": {
   "display_name": "Python 3",
   "language": "python",
   "name": "python3"
  },
  "language_info": {
   "codemirror_mode": {
    "name": "ipython",
    "version": 3
   },
   "file_extension": ".py",
   "mimetype": "text/x-python",
   "name": "python",
   "nbconvert_exporter": "python",
   "pygments_lexer": "ipython3",
   "version": "3.7.9"
  }
 },
 "nbformat": 4,
 "nbformat_minor": 2
}
