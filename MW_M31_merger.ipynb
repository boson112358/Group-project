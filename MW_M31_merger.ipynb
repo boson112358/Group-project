{
 "cells": [
  {
   "cell_type": "code",
   "execution_count": 1,
   "metadata": {},
   "outputs": [
    {
     "name": "stdout",
     "output_type": "stream",
     "text": [
      "No display found. Using non-interactive Agg backend for matplotlib\n"
     ]
    }
   ],
   "source": [
    "import os\n",
    "import matplotlib as mpl\n",
    "if os.environ.get('DISPLAY','') == '' and os.name != 'nt':\n",
    "    print('No display found. Using non-interactive Agg backend for matplotlib')\n",
    "    mpl.use('Agg')"
   ]
  },
  {
   "cell_type": "code",
   "execution_count": 2,
   "metadata": {},
   "outputs": [],
   "source": [
    "import numpy as np\n",
    "import matplotlib.pyplot as plt\n",
    "import random\n",
    "import math\n",
    "\n",
    "import inspect\n",
    "import sys\n",
    "\n",
    "#finds script path\n",
    "filename = inspect.getframeinfo(inspect.currentframe()).filename\n",
    "SCRIPT_PATH = os.path.dirname(os.path.abspath(filename))\n",
    "#add progressbar path to possible paths to import modules\n",
    "sys.path.insert(1, SCRIPT_PATH + '/python-progressbar/')"
   ]
  },
  {
   "cell_type": "code",
   "execution_count": 3,
   "metadata": {},
   "outputs": [],
   "source": [
    "plot_folders = [SCRIPT_PATH + '/plots', \n",
    "                SCRIPT_PATH + '/plots/merger_plots',\n",
    "                SCRIPT_PATH + '/plots/solar_system_plots',\n",
    "                SCRIPT_PATH + '/plots/merger_contour/',\n",
    "                SCRIPT_PATH + '/plots/zoomed_merger_plots/']\n",
    "\n",
    "for folder in plot_folders:\n",
    "    if not os.path.exists(folder):\n",
    "        os.makedirs(folder)\n",
    "    \n",
    "gal_folder = SCRIPT_PATH + '/galaxies/data'\n",
    "\n",
    "if not os.path.exists(gal_folder):\n",
    "    os.makedirs(gal_folder)"
   ]
  },
  {
   "cell_type": "code",
   "execution_count": null,
   "metadata": {},
   "outputs": [],
   "source": [
    "from amuse.lab import *\n",
    "from amuse.ext.galactics_model import new_galactics_model\n",
    "from amuse.couple import bridge"
   ]
  },
  {
   "cell_type": "code",
   "execution_count": null,
   "metadata": {},
   "outputs": [],
   "source": [
    "#ignore warnings (AmuseWarning at end of simulation)\n",
    "\n",
    "import warnings\n",
    "\n",
    "warnings.filterwarnings('ignore')"
   ]
  },
  {
   "cell_type": "code",
   "execution_count": null,
   "metadata": {},
   "outputs": [],
   "source": [
    "#defines parser for terminal usage\n",
    "import argparse\n",
    "\n",
    "parser = argparse.ArgumentParser()\n",
    "parser.add_argument('--plot', \n",
    "                    help='Allow output plots', \n",
    "                    action='store_true')\n",
    "parser.add_argument('--solar', \n",
    "                    help='Add solar system', \n",
    "                    action='store_true')\n",
    "parser.add_argument('--disk', \n",
    "                    help='Add test disk to MW', \n",
    "                    action='store_true')\n",
    "parser.add_argument('--igm', \n",
    "                    help='Add IGM', \n",
    "                    action='store_true')\n",
    "parser.add_argument('--test', \n",
    "                    help='Use test initial conditions', \n",
    "                    action='store_true')\n",
    "parser.add_argument('-f', \n",
    "                    help='Foo value, defined for jupyter notebook compatibility')\n",
    "args = parser.parse_args()\n",
    "\n",
    "PLOT = args.plot\n",
    "SOLAR = args.solar\n",
    "DISK = args.disk\n",
    "IGM = args.igm\n",
    "TEST = args.test\n",
    "\n",
    "if PLOT:\n",
    "    print('Plots turned on', flush=True)"
   ]
  },
  {
   "cell_type": "code",
   "execution_count": null,
   "metadata": {},
   "outputs": [],
   "source": [
    "#progressbar import\n",
    "\n",
    "import progressbar as pbar\n",
    "import progressbar.widgets as pbwg"
   ]
  },
  {
   "cell_type": "code",
   "execution_count": null,
   "metadata": {},
   "outputs": [],
   "source": [
    "#Galaxies starting conditions\n",
    "if not TEST:\n",
    "    n_bulge = 20000\n",
    "    n_disk = 20000\n",
    "    n_halo = 40000\n",
    "elif TEST:\n",
    "    print('Using test initial conditions', flush=True)\n",
    "    n_bulge = 10000\n",
    "    n_disk = 20000\n",
    "    n_halo = 40000\n",
    "\n",
    "mw_parameters = {'name': 'mw',\n",
    "                 'n_halo': n_halo,\n",
    "                 #'halo_outer_radius' : 244.48999 | units.kpc,\n",
    "                 \"halo_streaming_fraction\": 0.,\n",
    "                 'halo_scale_length': 12.96 | units.kpc,\n",
    "                 'disk_number_of_particles' : n_disk,\n",
    "                 'disk_mass' : 19.66 * 2.33 * 10e9 | units.MSun,\n",
    "                 'disk_scale_length' : 2.806 | units.kpc,\n",
    "                 'disk_outer_radius' : 30 | units.kpc, \n",
    "                 'disk_scale_height_sech2' : 0.409 | units.kpc,\n",
    "                 'bulge_scale_radius' : 0.788 | units.kpc,\n",
    "                 'bulge_number_of_particles' : n_bulge,\n",
    "                 \"bulge_streaming_fraction\": 0.,\n",
    "                 'disk_central_radial_velocity_dispersion': 0.7,\n",
    "                 'disk_scale_length_of_sigR2': 2.806 | units.kpc}\n",
    "\n",
    "m31_parameters = {'name': 'm31_not_displaced',\n",
    "                  'n_halo': n_halo,\n",
    "                  #'halo_outer_radius' : 201.619995 | units.kpc,\n",
    "                  \"halo_streaming_fraction\": 0.,\n",
    "                  'halo_scale_length': 12.94 | units.kpc,\n",
    "                  'disk_number_of_particles' : n_disk,\n",
    "                  'disk_mass' : 33.40 * 2.33 * 10e9 | units.MSun,\n",
    "                  'disk_scale_length' : 5.577 | units.kpc,\n",
    "                  'disk_outer_radius' : 30 | units.kpc, \n",
    "                  'disk_scale_height_sech2' : 0.3 | units.kpc,\n",
    "                  'bulge_scale_radius' : 1.826 | units.kpc,\n",
    "                  'bulge_number_of_particles' : n_bulge,\n",
    "                  \"bulge_streaming_fraction\": 0.,\n",
    "                  'disk_central_radial_velocity_dispersion': 0.7,\n",
    "                  'disk_scale_length_of_sigR2': 5.577 | units.kpc}\n",
    "\n",
    "#simulation parameters\n",
    "scale_mass_galaxy = 1.0e12 | units.MSun\n",
    "scale_radius_galaxy = 10 | units.kpc\n",
    "t_end = 400 | units.Myr\n",
    "\n",
    "#Solar system starting conditions\n",
    "n_stars = 10                                       #How many particles we will add\n",
    "solar_radial_distance = 8.2\n",
    "solar_position = (-np.sqrt(0.5 * solar_radial_distance**2),\n",
    "                  np.sqrt(0.5 * solar_radial_distance**2),\n",
    "                  0) | units.kpc                 #If we displace MW, we can do it through this vector aswell\n",
    "system_radius = 0.100 | units.kpc                #neighbourhood in which we distribute our stars\n",
    "solar_tang_velocity = 220 | (units.km/units.s)   #This is roughly the velocity of solarsystem around MW\n",
    "\n",
    "#Intergal medium starting conditions\n",
    "N1 = 5000\n",
    "N2 = 1000\n",
    "L = 10 | units.kpc\n",
    "rho = 1000 | units.MSun / (units.kpc)**3\n",
    "u = 1.6e+15 | (units.m)**2 / (units.s)**2"
   ]
  },
  {
   "cell_type": "code",
   "execution_count": null,
   "metadata": {},
   "outputs": [],
   "source": [
    "#M31 displacement\n",
    "rotation = np.array([[0.7703,  0.3244,  0.5490],\n",
    "                     [-0.6321, 0.5017,  0.5905],\n",
    "                     [-0.0839, -0.8019, 0.5915]])\n",
    "\n",
    "traslation = [-379.2, 612.7, 283.1] | units.kpc\n",
    "radial_velocity = 117 * np.array([0.4898, -0.7914, 0.3657]) | units.kms\n",
    "transverse_velocity = 50 * np.array([0.5236, 0.6024, 0.6024]) | units.kms"
   ]
  },
  {
   "cell_type": "code",
   "execution_count": null,
   "metadata": {},
   "outputs": [],
   "source": [
    "from galaxies import galaxies as gal\n",
    "from stars import solar_system as sol\n",
    "from intergal_medium import IGM_homogenous_Gadget2 as igm"
   ]
  },
  {
   "cell_type": "code",
   "execution_count": null,
   "metadata": {},
   "outputs": [],
   "source": [
    "#Galaxy initialization\n",
    "converter = nbody_system.nbody_to_si(scale_mass_galaxy, scale_radius_galaxy)\n",
    "\n",
    "if not TEST:\n",
    "    mw_data_path = SCRIPT_PATH + '/galaxies/data/{}_full'.format(mw_parameters['name'])\n",
    "    m31_not_displaced_data_path = SCRIPT_PATH + '/galaxies/data/{}_full'.format(m31_parameters['name'])\n",
    "    \n",
    "elif TEST:\n",
    "    mw_data_path = SCRIPT_PATH + '/galaxies/data/{}_test'.format(mw_parameters['name'])\n",
    "    m31_not_displaced_data_path = SCRIPT_PATH + '/galaxies/data/{}_test'.format(m31_parameters['name']) \n",
    "\n",
    "if os.path.exists(mw_data_path) and os.path.exists(m31_not_displaced_data_path):\n",
    "    widgets = ['Found galaxies data, loading: ', pbwg.AnimatedMarker(), pbwg.EndMsg()]\n",
    "    with pbar.ProgressBar(widgets=widgets, fd=sys.stdout) as progress:\n",
    "        mw = read_set_from_file(mw_data_path, \"hdf5\")\n",
    "        m31_not_displaced = read_set_from_file(m31_not_displaced_data_path, 'hdf5')\n",
    "else:\n",
    "    mw = gal.make_galaxy(converter, mw_parameters, SCRIPT_PATH, test=TEST)\n",
    "    m31_not_displaced = gal.make_galaxy(converter, m31_parameters, SCRIPT_PATH, test=TEST)"
   ]
  },
  {
   "cell_type": "code",
   "execution_count": null,
   "metadata": {},
   "outputs": [],
   "source": [
    "if all(value == False for value in [SOLAR, DISK, IGM]):\n",
    "    m31 = gal.displace_galaxy(m31_not_displaced, rotation, traslation, radial_velocity, transverse_velocity)\n",
    "    print('Simulating merger with no additional components (t = {} Myr) ...'.format(int(np.round(t_end.value_in(units.Myr), \n",
    "                                                                                                 decimals=0))), flush=True)\n",
    "    gal.simulate_merger(mw, m31, n_halo, n_disk, n_bulge, t_end, SCRIPT_PATH, interval=1|units.Myr, plot=PLOT)\n",
    "    \n",
    "if DISK:\n",
    "    print('Simulating merger with disk test particles ...', flush=True)\n",
    "    test_disk = gal.test_particles(MW, n_halo, n_bulge, n_disk)\n",
    "    gal.simulate_merger_with_particles(M31, MW, converter, n_halo, n_bulge, n_disk, t_end, SCRIPT_PATH, plot=PLOT)\n",
    "\n",
    "if SOLAR:\n",
    "    print('Simulating MW with solar system ...', flush=True)\n",
    "    MW.position += [100.0, 100.0, 0] | units.kpc\n",
    "    t_end = 400 | units.Myr\n",
    "    #MW.rotate(-np.pi/4, -np.pi/4, 0.0)\n",
    "    stars = sol.make_solar_system(n_stars, solar_position, system_radius, MW_velocity_vector, solar_tang_velocity)\n",
    "    gal.mw_and_stars(MW, stars, converter, sol.leapfrog_alg, n_halo, t_end, SCRIPT_PATH, plot=PLOT)"
   ]
  },
  {
   "cell_type": "code",
   "execution_count": null,
   "metadata": {},
   "outputs": [],
   "source": [
    "if IGM:\n",
    "    print('Simulating merger with IGM ...', flush=True)\n",
    "    widgets = ['Building IGM: ', pbwg.AnimatedMarker(), ' ',\n",
    "               pbwg.Timer(), pbwg.EndMsg()]\n",
    "    with pbar.ProgressBar(widgets=widgets, fd=sys.stdout) as progress:\n",
    "        sph_code = igm.setup_sph_code(Gadget2, N1, N2, L, rho, u)\n",
    "\n",
    "    gal.merger_and_igm(galaxy1, galaxy2, converter, sph_code, n_halo, t_end, SCRIPT_PATH, plot=PLOT)"
   ]
  }
 ],
 "metadata": {
  "kernelspec": {
   "display_name": "Python 3",
   "language": "python",
   "name": "python3"
  },
  "language_info": {
   "codemirror_mode": {
    "name": "ipython",
    "version": 3
   },
   "file_extension": ".py",
   "mimetype": "text/x-python",
   "name": "python",
   "nbconvert_exporter": "python",
   "pygments_lexer": "ipython3",
   "version": "3.7.9"
  }
 },
 "nbformat": 4,
 "nbformat_minor": 4
}
