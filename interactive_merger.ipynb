{
 "cells": [
  {
   "cell_type": "code",
   "execution_count": 1,
   "metadata": {},
   "outputs": [
    {
     "name": "stdout",
     "output_type": "stream",
     "text": [
      "[NbConvertApp] Converting notebook MW_M31_merger.ipynb to script\n",
      "[NbConvertApp] Writing 8820 bytes to MW_M31_merger.py\n",
      "No display found. Using non-interactive Agg backend for matplotlib\n",
      "Using test initial conditions\n",
      "Building mw galaxy: | Elapsed Time: 0:03:12 Done                               \n",
      "Saving mw galaxy data: | Done                                                  \n",
      "Building m31_not_displaced galaxy: | Elapsed Time: 0:02:27 Done                \n",
      "Saving m31_not_displaced galaxy data: | Done                                   \n",
      "Quitting after galaxy initialization\n",
      "Elapsed:5:41.92,User=646.950,System=33.265,CPU=198.9%.\n"
     ]
    }
   ],
   "source": [
    "!jupyter nbconvert --to script --no-prompt MW_M31_merger.ipynb\n",
    "\n",
    "!mpiexec amuse MW_M31_merger.py --test --nomerger"
   ]
  },
  {
   "cell_type": "code",
   "execution_count": 25,
   "metadata": {},
   "outputs": [
    {
     "name": "stdout",
     "output_type": "stream",
     "text": [
      "No display found. Using non-interactive Agg backend for matplotlib\n",
      "Skipping galaxy simulation\n",
      "Found galaxy data, loading: | Done                                             \n",
      "Galaxy total mass: 1.17678898408e+15 MSun\n",
      "Halo particles: 40000; expected: 40000\n",
      "Disk particles: 20000; expected: 20000\n",
      "Bulge particles: 10000; expected: 10000\n",
      "Plotting galaxy structures: | Done                                             \n",
      "Computing galaxy velocities: | Done                                            \n",
      "                   com_distance          ...                   total_velocity\n",
      "0      3.4709205052198622e+22 m          ...            -379.024737137 km / s\n",
      "1       1.862914210782529e+22 m          ...             401.922950143 km / s\n",
      "2       8.881463160182887e+22 m          ...            -283.508458796 km / s\n",
      "3       6.576606522116471e+22 m          ...             1555.33528418 km / s\n",
      "4       8.728159925915194e+22 m          ...             277.511090658 km / s\n",
      "5       7.795700175123079e+21 m          ...             794.734492465 km / s\n",
      "6       2.361682904512777e+22 m          ...             478.449156597 km / s\n",
      "7      6.5958627102372265e+22 m          ...            -289.685521569 km / s\n",
      "8       6.029479860538594e+20 m          ...            -529.812557951 km / s\n",
      "9      1.6109209786948405e+22 m          ...            -167.067874948 km / s\n",
      "10      8.644539769823061e+22 m          ...            -1025.31878645 km / s\n",
      "11       5.32161120849498e+22 m          ...            -526.514532035 km / s\n",
      "12      6.851390853451765e+22 m          ...            -436.846471073 km / s\n",
      "13     3.6630327720985563e+22 m          ...            -547.332213658 km / s\n",
      "14      6.348892487249396e+22 m          ...            -686.956277199 km / s\n",
      "15     1.1122877174446704e+23 m          ...             70.9691793456 km / s\n",
      "16      5.579194038794977e+21 m          ...            -537.988072876 km / s\n",
      "17     1.7272388937201425e+22 m          ...             841.867668701 km / s\n",
      "18     6.5275909120869735e+22 m          ...             843.257773935 km / s\n",
      "19      7.061568820873808e+22 m          ...            -520.230242112 km / s\n",
      "20      8.143313880329436e+22 m          ...            -267.866889537 km / s\n",
      "21     3.3164789492845254e+21 m          ...            -265.966943479 km / s\n",
      "22      1.256184684083093e+23 m          ...            -446.728667853 km / s\n",
      "23      4.808685177708206e+21 m          ...             637.635756755 km / s\n",
      "24      5.320097919850834e+22 m          ...             898.719866127 km / s\n",
      "25      5.979251446108318e+22 m          ...              -151.5176229 km / s\n",
      "26     6.0920152485109195e+22 m          ...            -103.733815697 km / s\n",
      "27      4.694585748236932e+22 m          ...            -510.685736792 km / s\n",
      "28      9.245492741734272e+22 m          ...             371.246067566 km / s\n",
      "29      3.278432493675432e+22 m          ...             -704.56289411 km / s\n",
      "...                         ...          ...                              ...\n",
      "39970  5.5619749168754995e+22 m          ...            -14.5356077611 km / s\n",
      "39971   4.055626152307577e+22 m          ...             -727.35695991 km / s\n",
      "39972  1.2365975791179512e+22 m          ...            -1576.16770929 km / s\n",
      "39973   4.444032695528988e+22 m          ...            -323.919147762 km / s\n",
      "39974   7.854843313633531e+21 m          ...            -1351.86500922 km / s\n",
      "39975  1.3162134259886905e+21 m          ...            -774.745626287 km / s\n",
      "39976   5.428388348226297e+22 m          ...            -1003.93483754 km / s\n",
      "39977   5.312600868168372e+22 m          ...             512.263426025 km / s\n",
      "39978   5.834524224216743e+22 m          ...             -957.91969476 km / s\n",
      "39979  1.0370983146839048e+23 m          ...            -616.897684719 km / s\n",
      "39980   5.052779586553435e+22 m          ...            -226.251388484 km / s\n",
      "39981   6.661546141232421e+22 m          ...             38.2149245483 km / s\n",
      "39982  1.3345467086596886e+22 m          ...            -885.297722952 km / s\n",
      "39983  1.8756624672614502e+22 m          ...             1717.91761762 km / s\n",
      "39984   5.871861647778504e+22 m          ...            -16.8135007194 km / s\n",
      "39985   5.869349785617932e+22 m          ...            -41.7224927325 km / s\n",
      "39986    4.76311426329178e+22 m          ...             27.0863577163 km / s\n",
      "39987  3.6439770529874162e+22 m          ...            -727.316586529 km / s\n",
      "39988   4.700488910445234e+22 m          ...             1246.37219715 km / s\n",
      "39989   5.151499226092614e+21 m          ...            -1173.73034092 km / s\n",
      "39990  1.4330407644163222e+22 m          ...             339.748661102 km / s\n",
      "39991  2.8013352445812377e+21 m          ...            -1284.97598443 km / s\n",
      "39992  1.0816520860202147e+22 m          ...             517.293351176 km / s\n",
      "39993  2.6419886037522056e+22 m          ...            -109.595256093 km / s\n",
      "39994   7.590732335542347e+21 m          ...            -1666.29405913 km / s\n",
      "39995  1.6352642092806443e+22 m          ...             458.997235888 km / s\n",
      "39996  4.6013422016022273e+21 m          ...            -647.428595034 km / s\n",
      "39997    3.47349743422131e+21 m          ...            -989.395276623 km / s\n",
      "39998   6.106351459679515e+22 m          ...            -702.469694796 km / s\n",
      "39999   2.364955149111461e+22 m          ...            -588.294388041 km / s\n",
      "\n",
      "[40000 rows x 5 columns]\n",
      "Elapsed:0:27.07,User=26.931,System=2.142,CPU=107.3%.\n"
     ]
    }
   ],
   "source": [
    "!mpiexec amuse model_test.py --nosimulation"
   ]
  },
  {
   "cell_type": "code",
   "execution_count": 17,
   "metadata": {},
   "outputs": [
    {
     "name": "stdout",
     "output_type": "stream",
     "text": [
      "a    1\n",
      "b    2\n",
      "c    3\n"
     ]
    }
   ],
   "source": [
    "sample = {'a': 1, 'b': 2, 'c': 3}\n",
    "for key, value in sample.items():\n",
    "    print(f'{key:<4} {v}')"
   ]
  },
  {
   "cell_type": "code",
   "execution_count": null,
   "metadata": {},
   "outputs": [],
   "source": []
  }
 ],
 "metadata": {
  "kernelspec": {
   "display_name": "Python 3",
   "language": "python",
   "name": "python3"
  },
  "language_info": {
   "codemirror_mode": {
    "name": "ipython",
    "version": 3
   },
   "file_extension": ".py",
   "mimetype": "text/x-python",
   "name": "python",
   "nbconvert_exporter": "python",
   "pygments_lexer": "ipython3",
   "version": "3.7.9"
  }
 },
 "nbformat": 4,
 "nbformat_minor": 2
}
