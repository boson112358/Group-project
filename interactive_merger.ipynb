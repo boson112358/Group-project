{
 "cells": [
  {
   "cell_type": "code",
   "execution_count": 1,
   "metadata": {},
   "outputs": [
    {
     "name": "stdout",
     "output_type": "stream",
     "text": [
      "[NbConvertApp] Converting notebook MW_M31_merger.ipynb to script\n",
      "[NbConvertApp] Writing 8372 bytes to MW_M31_merger.py\n",
      "No display found. Using non-interactive Agg backend for matplotlib\n",
      "Plots turned on\n",
      "Using test initial conditions\n",
      "Building mw galaxy: | Elapsed Time: 0:03:12 Done                               \n",
      "Saving mw galaxy data: | Done                                                  \n",
      "Building m31_not_displaced galaxy: | Elapsed Time: 0:02:27 Done                \n",
      "Saving m31_not_displaced galaxy data: | Done                                   \n",
      "Adjusting relative velocities and orientations: | Done                         \n",
      "Simulating merger with no additional components (t = 400 Myr) ...\n",
      "Step 401 of 401 [====================================]100% - Time: 0:01:55 Done\n",
      "Elapsed:7:47.17,User=1222.320,System=88.892,CPU=280.6%.\n"
     ]
    }
   ],
   "source": [
    "!jupyter nbconvert --to script --no-prompt MW_M31_merger.ipynb\n",
    "\n",
    "!mpiexec amuse MW_M31_merger.py --plot --test"
   ]
  },
  {
   "cell_type": "code",
   "execution_count": null,
   "metadata": {},
   "outputs": [],
   "source": []
  }
 ],
 "metadata": {
  "kernelspec": {
   "display_name": "Python 3",
   "language": "python",
   "name": "python3"
  },
  "language_info": {
   "codemirror_mode": {
    "name": "ipython",
    "version": 3
   },
   "file_extension": ".py",
   "mimetype": "text/x-python",
   "name": "python",
   "nbconvert_exporter": "python",
   "pygments_lexer": "ipython3",
   "version": "3.7.9"
  }
 },
 "nbformat": 4,
 "nbformat_minor": 2
}
