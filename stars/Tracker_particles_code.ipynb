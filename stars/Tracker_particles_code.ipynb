{
 "cells": [
  {
   "cell_type": "code",
   "execution_count": 1,
   "metadata": {},
   "outputs": [],
   "source": [
    "## In this code I will write out the tracker particles, these will be used to see what happens to stars during the\n",
    "## merger event. These will be written out using the get_gravity_at_position() function on the galaxy/IGM Fi solver\n",
    "## This way the \"ghost\" particles won't have an effect on eachother or on the merger themself and computation is\n",
    "## speed up considerably making it possible to use very large particle sets for statistical analysis\n",
    "#\n",
    "#\n",
    "## First we generate 2 small \"galaxies\" so we can get the get_grav function to work and we have an example with\n",
    "## which we can test the ghost particles.\n",
    "## Once our small galaxy merge works we will attempt to add the ghost particles as seen in chapter 7 of the AMUSE\n",
    "## book.\n",
    "## And once we have this working we will start working on some statistical analysis functions for data analysis"
   ]
  },
  {
   "cell_type": "code",
   "execution_count": 1,
   "metadata": {},
   "outputs": [],
   "source": [
    "import numpy\n",
    "import random,math\n",
    "from amuse.plot import plot,scatter\n",
    "from matplotlib import pyplot\n",
    "from amuse.units import nbody_system,units\n",
    "from amuse.lab import Particles\n",
    "from amuse.community.fi.interface import Fi\n",
    "from amuse.community.ph4.interface import ph4"
   ]
  },
  {
   "cell_type": "code",
   "execution_count": 2,
   "metadata": {},
   "outputs": [],
   "source": [
    "N= 40   #These values and code are just for my test galaxy, will be replaced by the Fi solver\n",
    "r = 8\n",
    "v=230 \n",
    "\n",
    "def MW_and_M31():\n",
    "    MW_M31 = Particles(2+2*N)\n",
    "    MW = MW_M31[0]\n",
    "    MW.mass = 1*10**11 | units.MSun\n",
    "    MW.position = (0,0,0) | units.kpc\n",
    "    MW.velocity = (10,10,0) | units.kms\n",
    "    #MW.u = 0.5*(math.sqrt(2)*10)**2*1000*1000 | units.m**2 * units.s**-2\n",
    "    for i in range(N):\n",
    "        MW_M31[1+i].mass = 10 | units.MSun\n",
    "        angle = random.random()*2*math.pi\n",
    "        MW_M31[1+i].position = (r*math.cos(angle),r*math.sin(angle),0) | units.kpc\n",
    "        MW_M31[1+i].velocity = (10+v*math.sin(angle),10 - math.cos(angle)*v,0) | units.kms\n",
    "        #Tried to add energy thing since Fi wanted it but didn't work\n",
    "        #MW_M31[1+i].u = 0.5*(math.sqrt((10 + v*math.sin(angle))**2+10 - math.cos(angle)*v))**2*1000*1000 | units.m**2 * units.s**-2\n",
    "    M31 = MW_M31[N+1]\n",
    "    M31.mass = 1.6*10**11 | units.MSun\n",
    "    M31.position = (780,0,0) | units.kpc\n",
    "    M31.velocity = (0,0,0) | units.kms\n",
    "    for i in range(N):\n",
    "        MW_M31[N+2+i].mass = 10 | units.MSun\n",
    "        angle = random.random()*2*math.pi\n",
    "        MW_M31[N+2+i].position = (780 + r*math.cos(angle),r*math.sin(angle),0) | units.kpc\n",
    "        MW_M31[N+2+i].velocity = (v*math.sin(angle),-math.cos(angle)*v,0) | units.kms\n",
    "        #MW_M31[N+2+i].u = 0.5*230**2*1000*1000 | units.m**2 * units.s**-2\n",
    "    return MW_M31\n",
    "\n",
    "\n",
    "Galaxies=MW_and_M31()\n"
   ]
  },
  {
   "cell_type": "code",
   "execution_count": 3,
   "metadata": {},
   "outputs": [
    {
     "name": "stdout",
     "output_type": "stream",
     "text": [
      "                 key         mass       radius           vx           vy           vz            x            y            z\n",
      "                   -         MSun         RSun  1000.0 * m * s**-1  1000.0 * m * s**-1       km / s  3.08567758128e+19 * m  3.08567758128e+19 * m          kpc\n",
      "====================  ===========  ===========  ===========  ===========  ===========  ===========  ===========  ===========\n",
      " 6625104368072909488    5.000e+00    1.500e+00    1.669e+02    1.642e+02    0.000e+00   -5.996e+00    6.100e+00    0.000e+00\n",
      " 3887830286697682193    5.000e+00    1.500e+00    1.654e+02    1.657e+02    0.000e+00   -6.038e+00    6.027e+00    0.000e+00\n",
      "  670663481207609027    5.000e+00    1.500e+00    1.655e+02    1.657e+02    0.000e+00   -6.027e+00    6.019e+00    0.000e+00\n",
      "16354814306732322228    5.000e+00    1.500e+00    1.648e+02    1.664e+02    0.000e+00   -6.035e+00    5.973e+00    0.000e+00\n",
      "18331212424917636906    5.000e+00    1.500e+00    1.657e+02    1.654e+02    0.000e+00   -6.053e+00    6.063e+00    0.000e+00\n",
      " 1829426606003293734    5.000e+00    1.500e+00    1.647e+02    1.664e+02    0.000e+00   -6.043e+00    5.980e+00    0.000e+00\n",
      "11034811279291254100    5.000e+00    1.500e+00    1.656e+02    1.656e+02    0.000e+00   -5.958e+00    5.958e+00    0.000e+00\n",
      " 1337011252086307119    5.000e+00    1.500e+00    1.650e+02    1.662e+02    0.000e+00   -6.052e+00    6.006e+00    0.000e+00\n",
      " 4030420713970720068    5.000e+00    1.500e+00    1.667e+02    1.644e+02    0.000e+00   -5.973e+00    6.065e+00    0.000e+00\n",
      " 8020427793969527538    5.000e+00    1.500e+00    1.650e+02    1.661e+02    0.000e+00   -6.018e+00    5.977e+00    0.000e+00\n",
      "====================  ===========  ===========  ===========  ===========  ===========  ===========  ===========  ===========\n"
     ]
    }
   ],
   "source": [
    "#Here we define the track particles with some values which can change their location and radius of distribution\n",
    "\n",
    "\n",
    "Solarposition = (-6,6,0) | units.kpc  #If we displace MW, we can do it through this vector aswell\n",
    "neighbourradius = 0.100 | units.kpc   #neighbourhood in which we distribute our stars\n",
    "Ntracker=10                        #How many particles we will add\n",
    "VelocityMilky = (10,10,0) | (units.km/units.s)  #Velocity at which the milkyway is traveling\n",
    "vel = 220 | (units.km/units.s)   #This is roughly the velocity for our solarsystem around MW\n",
    "#If we want to use different position we have to make sure to properly change the velocity.\n",
    "#I also assumed the velocity is roughly constant throughout the neighbourradius which only for small r is the case\n",
    "def Nstars():  \n",
    "    particles = Particles(Ntracker)\n",
    "    i=0\n",
    "    while i < Ntracker:\n",
    "        #here we generate our N bodies, we can change code in here to reflect different things\n",
    "        #We can distribut them randomly, have them near eachother, all at the same radius etc.\n",
    "        #All particles are in the x-y plane, this should still be adjusted accordingly to give some z randomization\n",
    "        \n",
    "        #For now I will keep the mass the same and distribute uniformly over a circle\n",
    "        smallangle = random.random()*2*math.pi   #smallangle  is angle around solarpos, angle is angle around Sag A\n",
    "        radius = neighbourradius * math.sqrt(random.random()) #sqrt so it's uniform and not clumped at r=0\n",
    "        particles[i].mass = 5 | units.MSun \n",
    "        particles[i].radius = 1.5 | units.RSun   \n",
    "        #I have no z displacement, I can still add this though\n",
    "        particles[i].position = (radius*math.cos(smallangle) + Solarposition[0], radius*math.sin(smallangle) + Solarposition[1],Solarposition[2]) \n",
    "        #arctan only -pi/2 to pi/2, this codes gives us from -pi/2 to 3pi/2, we need global angle to fix vel vector\n",
    "        if particles[i].x < 0 | units.kpc:\n",
    "            angle = math.atan(particles[i].y / particles[i].x) + math.pi\n",
    "        else:\n",
    "            angle = math.atan(particles[i].y/particles[i].x)\n",
    "        \n",
    "        #print(360*angle/(2*math.pi)) you can check that the angles are correct this way\n",
    "        \n",
    "        particles[i].velocity = [math.sin(angle)*vel + VelocityMilky[0],-math.cos(angle)*vel+VelocityMilky[1],VelocityMilky[2]] \n",
    "        i += 1\n",
    "    return particles\n",
    "Tracker = Nstars()\n",
    "print(Tracker)"
   ]
  },
  {
   "cell_type": "code",
   "execution_count": 4,
   "metadata": {},
   "outputs": [],
   "source": [
    "#This ph4 will be replaced by the Fi later\n",
    "converter=nbody_system.nbody_to_si(1.0e12|units.MSun, 100|units.kpc)\n",
    "gravity = ph4(converter)\n",
    "gravity.particles.add_particles(Galaxies)\n",
    "channel1 = gravity.particles.new_channel_to(Galaxies)\n",
    "channel2 = Tracker.new_channel_to(Tracker)\n",
    "DeltaT = 1   #This is the timestep we will use in Myr\n",
    "#If we want to have a non constant DeltaT we would need to change some of the code since leap-frog is not stable\n",
    "#enough for varying timesteps. Can be done by finishing the leap-frog and starting a new one\n",
    "\n",
    "gravity.timestep = DeltaT|units.Myr\n",
    "times = numpy.arange(0., 50, DeltaT) | units.Myr\n",
    "\n",
    "\n",
    "unity = 1 | units.m**-1 * units.s**2 #We do this to remove the units inside the vector\n",
    "unity2 = 1 | units.m * units.s**-2  #Here we add the units on the outside\n",
    "Accelout = [0,0,0] \n",
    "#Now that we have initialised our particle set we have the main gravitational solver with a certain timestep DeltaT\n",
    "#This is what will later be the main solving part of Fi.\n",
    "k=0\n",
    "for time in times:\n",
    "    #print(time)  \n",
    "    #This is just the gravity solving, this will be replaced by the Fi solver in the main code\n",
    "    gravity.evolve_model(time)\n",
    "    channel1.copy()\n",
    "    \n",
    "    #print(Galaxies.position[3]) #I added this to quickly see if it works, I'll add some actual plots later\n",
    "    #here we define a leapfrog integration method for the tracker particles through the get_gravity_at_point()\n",
    "    if k ==0:       #First timestep is only half for leapfrog\n",
    "        for i in range(Ntracker):  #We have to repeat this for all particles in our set of trackers\n",
    "            Accelout = [0,0,0] \n",
    "            #We get the acceleration at x_i\n",
    "            accel = gravity.get_gravity_at_point(3 | units.km, Tracker[i].position[0],Tracker[i].position[1],Tracker[i].position[2])\n",
    "            for f in range(3):\n",
    "                \n",
    "                Accelout[f] = (accel[f]*unity)  #removing units\n",
    "                \n",
    "            Accelout = Accelout*unity2 #units outside vector\n",
    "            \n",
    "            #We calculate v_{i+1/2} over the x y and z (I tried adding directly but got mismatched units)\n",
    "            #and we calculate x_{i+1} with the velocity v_{i+1/2}\n",
    "            \n",
    "            \n",
    "                \n",
    "            Tracker[i].velocity = Tracker[i].velocity + Accelout*gravity.timestep*0.5\n",
    "                \n",
    "            Tracker[i].position = Tracker[i].position + Tracker[i].velocity*gravity.timestep\n",
    "              \n",
    "            \n",
    "            \n",
    "    else:    #rest of the leapfrog, I might still have to change something for the last step of the frog\n",
    "        \n",
    "        for i in range(Ntracker):\n",
    "            #We get the acceleration at x_i\n",
    "            Accelout = [0,0,0]\n",
    "            accel = gravity.get_gravity_at_point(3 | units.km, Tracker[i].position[0],Tracker[i].position[1],Tracker[i].position[2])\n",
    "            for f in range(3):\n",
    "                \n",
    "                Accelout[f] = (accel[f]*unity)\n",
    "                \n",
    "            Accelout = Accelout*unity2\n",
    "            #We calculate v_{i+1/2} over the x y and z (I tried adding directly but got mismatched units)\n",
    "            #and we calculate x_{i+1} with the velocity v_{i+1/2}\n",
    "            Tracker[i].velocity = Tracker[i].velocity + Accelout*gravity.timestep\n",
    "              \n",
    "            Tracker[i].position = Tracker[i].position + Tracker[i].velocity*gravity.timestep\n",
    "            \n",
    "        \n",
    "    k += 1\n",
    "    \n",
    "    \n",
    "    \n",
    "    \n",
    "    \n",
    "gravity.stop()"
   ]
  },
  {
   "cell_type": "code",
   "execution_count": 5,
   "metadata": {},
   "outputs": [
    {
     "data": {
      "image/png": "[encoded data removed]",
      "text/plain": [
       "<Figure size 432x288 with 1 Axes>"
      ]
     },
     "metadata": {
      "needs_background": "light"
     },
     "output_type": "display_data"
    }
   ],
   "source": [
    "for i in range(Ntracker):\n",
    "    scatter(Tracker[i].position[0],Tracker[i].position[1])\n",
    "for i in range(N+1):\n",
    "    scatter(Galaxies[i].x,Galaxies[i].y)\n",
    "#Quick plot to see end result, need to make some actual data analysis functions and such which will come later\n",
    "\n",
    "#The other cell's are mostly just me randomly testing stuff to make sure things work, they can be ignored"
   ]
  },
  {
   "cell_type": "code",
   "execution_count": 6,
   "metadata": {},
   "outputs": [
    {
     "name": "stdout",
     "output_type": "stream",
     "text": [
      "[[4.97727931998, 7.51365188921, 0.0], [4.92856575101, 7.49772759318, 0.0], [4.94145150117, 7.46076709429, 0.0], [4.93211726789, 7.40941917553, 0.0], [4.91109932913, 7.58515833755, 0.0], [4.92292938063, 7.4384608224, 0.0], [5.02075733732, 7.20741796548, 0.0], [4.91211944702, 7.49871956125, 0.0], [5.00327738017, 7.40933683606, 0.0], [4.9519025391, 7.37598334077, 0.0]] 3.08567758128e+19 * m\n"
     ]
    }
   ],
   "source": [
    "print(Tracker.position)"
   ]
  },
  {
   "cell_type": "code",
   "execution_count": null,
   "metadata": {},
   "outputs": [],
   "source": [
    "####\n",
    "#### Most of what comes next can be ignored\n",
    "#### the histogram plotting has already been added in solar_distance_histogram.py\n",
    "####"
   ]
  },
  {
   "cell_type": "code",
   "execution_count": 7,
   "metadata": {},
   "outputs": [
    {
     "name": "stdout",
     "output_type": "stream",
     "text": [
      "[4.93211726789, 7.40941917553, 0.0] 3.08567758128e+19 * m\n",
      "4.426892464036381\n"
     ]
    }
   ],
   "source": [
    "i= 3\n",
    "print(Tracker[i].position)\n",
    "Galaxies[:N].center_of_mass()\n",
    "Galaxies[:N].center_of_mass() - Tracker[i].position\n",
    "b = Galaxies[:N].center_of_mass() - Tracker[i].position\n",
    "unity = 1 | units.kpc**-2\n",
    "r = math.sqrt(b[0]*b[0]*unity)\n",
    "print(r)"
   ]
  },
  {
   "cell_type": "code",
   "execution_count": 8,
   "metadata": {},
   "outputs": [
    {
     "name": "stdout",
     "output_type": "stream",
     "text": [
      "[8.314893930123361, 8.275332857464106, 8.251040126818852, 8.202750549856965, 8.340115940180151, 8.222274541428352, 8.082616321646851, 8.267392918944227, 8.241303262784495, 8.18535334950842]\n"
     ]
    },
    {
     "data": {
      "image/png": "[encoded data removed]",
      "text/plain": [
       "<Figure size 432x288 with 1 Axes>"
      ]
     },
     "metadata": {
      "needs_background": "light"
     },
     "output_type": "display_data"
    }
   ],
   "source": [
    "#We write a function that can be called to plot a histogram of distances\n",
    "#We still have a lot of work ahead of us, we need to change some parameters to make the histogram look better\n",
    "#Mostly the bins, but in our current test dataset it won't look that well\n",
    "\n",
    "import matplotlib.pyplot as plt\n",
    "z = time   #This was to test if str converts the unit aswell\n",
    "\n",
    "def Histogram(CenterofMass,Trackerpos,Time,Scriptpath,Filename):\n",
    "    unity = 1 | units.kpc**-2\n",
    "    r = []\n",
    "    \n",
    "    for i in range(len(Trackerpos)):\n",
    "        b = CenterofMass - Trackerpos[i]\n",
    "        r.append(math.sqrt((b[0]**2 + b[1]**2 + b[2]**2)*unity))\n",
    "    fig = plt.hist(r, bins=50, facecolor='r',range=(0,20)) \n",
    "    \n",
    "    plt.title('Distance distribution at time ' +str(Time) + '.')\n",
    "    \n",
    "    plt.ylim(0,Ntracker*1.2) #Ntracker is the max value, we can change this to make the plot look better\n",
    "    print(r)\n",
    "    plt.show()\n",
    "    \n",
    "    \n",
    "    \n",
    "    \n",
    "Histogram(Galaxies[:N].center_of_mass(),Tracker.position,z,3,5)"
   ]
  },
  {
   "cell_type": "code",
   "execution_count": 173,
   "metadata": {},
   "outputs": [],
   "source": []
  },
  {
   "cell_type": "code",
   "execution_count": null,
   "metadata": {},
   "outputs": [],
   "source": []
  },
  {
   "cell_type": "code",
   "execution_count": null,
   "metadata": {},
   "outputs": [],
   "source": []
  },
  {
   "cell_type": "code",
   "execution_count": 187,
   "metadata": {},
   "outputs": [],
   "source": []
  },
  {
   "cell_type": "code",
   "execution_count": null,
   "metadata": {},
   "outputs": [],
   "source": []
  },
  {
   "cell_type": "code",
   "execution_count": null,
   "metadata": {},
   "outputs": [],
   "source": []
  },
  {
   "cell_type": "code",
   "execution_count": 15,
   "metadata": {},
   "outputs": [
    {
     "name": "stdout",
     "output_type": "stream",
     "text": [
      "[156.063206594, 174.516077268, 0.0] 1000.0 * m * s**-1\n",
      "[-2.2746471001e-10 m * s**-2, -2.65670481544e-10 m * s**-2, 0.0 m * s**-2] 31556925993600.004 * s\n",
      "166.132333543 1000.0 * m * s**-1\n",
      "[0, quantity<166.132333543 1000.0 * m * s**-1>, 0]\n",
      "174.516077268 1000.0 * m * s**-1\n"
     ]
    }
   ],
   "source": [
    "### Why logic have thou forsaken me\n",
    "z = [0,0,0]\n",
    "print(Tracker[i].velocity)\n",
    "print(accel*gravity.timestep*0.5)\n",
    "print(Tracker[i].velocity[1] + accel[1]*gravity.timestep*0.5)\n",
    "z[1]  = Tracker[i].velocity[1] + accel[1]*gravity.timestep*0.5\n",
    "print(z)\n",
    "Tracker[i].velocity[1] = Tracker[i].velocity[1] +  accel[1]*gravity.timestep*0.5\n",
    "print(Tracker[i].velocity[1])\n"
   ]
  },
  {
   "cell_type": "code",
   "execution_count": null,
   "metadata": {},
   "outputs": [],
   "source": []
  },
  {
   "cell_type": "code",
   "execution_count": null,
   "metadata": {},
   "outputs": [],
   "source": []
  },
  {
   "cell_type": "code",
   "execution_count": null,
   "metadata": {},
   "outputs": [],
   "source": []
  },
  {
   "cell_type": "code",
   "execution_count": null,
   "metadata": {},
   "outputs": [],
   "source": []
  },
  {
   "cell_type": "code",
   "execution_count": null,
   "metadata": {},
   "outputs": [],
   "source": []
  },
  {
   "cell_type": "code",
   "execution_count": null,
   "metadata": {},
   "outputs": [],
   "source": []
  },
  {
   "cell_type": "code",
   "execution_count": null,
   "metadata": {},
   "outputs": [],
   "source": []
  },
  {
   "cell_type": "code",
   "execution_count": null,
   "metadata": {},
   "outputs": [],
   "source": []
  },
  {
   "cell_type": "code",
   "execution_count": null,
   "metadata": {},
   "outputs": [],
   "source": []
  },
  {
   "cell_type": "code",
   "execution_count": 37,
   "metadata": {},
   "outputs": [
    {
     "name": "stdout",
     "output_type": "stream",
     "text": [
      "[quantity<-9.09858840042e-10 m * s**-2 s**2 * m**-1>, quantity<-1.06268192618e-09 m * s**-2 s**2 * m**-1>, quantity<0.0 m * s**-2 s**2 * m**-1>]\n",
      "[186.063206594, 224.516077268, 90.0] 1000.0 * m * s**-1\n"
     ]
    }
   ],
   "source": [
    "k = [0,0,0] \n",
    "for j in range(3):\n",
    "    k[j] = accel[j] | units.s**2 * units.m**-1\n",
    "print(k)\n",
    "eenheid = 1 | units.m**-1 * units.s**2\n",
    "print(Tracker[i].velocity)"
   ]
  },
  {
   "cell_type": "code",
   "execution_count": 38,
   "metadata": {},
   "outputs": [
    {
     "name": "stdout",
     "output_type": "stream",
     "text": [
      "[-9.0985884004194333e-10, -1.0626819261765853e-09, 0.0]\n"
     ]
    }
   ],
   "source": [
    "for j in range(3):\n",
    "    k[j] = accel[j]*eenheid\n"
   ]
  },
  {
   "cell_type": "code",
   "execution_count": 60,
   "metadata": {},
   "outputs": [],
   "source": [
    "Accelout = [0,0,0] \n",
    "unity = 1 | units.m**-1 * units.s**2 \n",
    "for f in range(3):\n",
    "    Accelout[f] = accel[f]*unity\n",
    "\n",
    "Accelout = Accelout*unity2"
   ]
  },
  {
   "cell_type": "code",
   "execution_count": 61,
   "metadata": {},
   "outputs": [
    {
     "name": "stdout",
     "output_type": "stream",
     "text": [
      "[2.89927366164e-10, -1.94240072909e-10, 0.0] m * s**-2\n"
     ]
    }
   ],
   "source": [
    "print(Accelout)"
   ]
  },
  {
   "cell_type": "code",
   "execution_count": null,
   "metadata": {},
   "outputs": [],
   "source": []
  }
 ],
 "metadata": {
  "kernelspec": {
   "display_name": "Python 3",
   "language": "python",
   "name": "python3"
  },
  "language_info": {
   "codemirror_mode": {
    "name": "ipython",
    "version": 3
   },
   "file_extension": ".py",
   "mimetype": "text/x-python",
   "name": "python",
   "nbconvert_exporter": "python",
   "pygments_lexer": "ipython3",
   "version": "3.8.5"
  }
 },
 "nbformat": 4,
 "nbformat_minor": 4
}
