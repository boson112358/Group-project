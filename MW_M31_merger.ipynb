{
 "cells": [
  {
   "cell_type": "code",
   "execution_count": null,
   "metadata": {},
   "outputs": [],
   "source": [
    "import os\n",
    "import matplotlib as mpl\n",
    "if os.environ.get('DISPLAY','') == '' and os.name != 'nt':\n",
    "    print('No display found. Using non-interactive Agg backend for matplotlib')\n",
    "    mpl.use('Agg')"
   ]
  },
  {
   "cell_type": "code",
   "execution_count": null,
   "metadata": {},
   "outputs": [],
   "source": [
    "import numpy as np\n",
    "import matplotlib.pyplot as plt\n",
    "import random\n",
    "import math\n",
    "\n",
    "import inspect\n",
    "import subprocess\n",
    "import sys\n",
    "\n",
    "#finds script path\n",
    "filename = inspect.getframeinfo(inspect.currentframe()).filename\n",
    "script_path = os.path.dirname(os.path.abspath(filename))\n",
    "#add progressbar path to possible paths to import modules\n",
    "sys.path.insert(1, script_path + '/python-progressbar/')"
   ]
  },
  {
   "cell_type": "code",
   "execution_count": null,
   "metadata": {},
   "outputs": [],
   "source": [
    "from amuse.lab import *\n",
    "from amuse.ext.galactics_model import new_galactics_model\n",
    "from amuse.couple import bridge"
   ]
  },
  {
   "cell_type": "code",
   "execution_count": null,
   "metadata": {},
   "outputs": [],
   "source": [
    "#ignore warnings (AmuseWarning at end of simulation)\n",
    "\n",
    "import warnings\n",
    "\n",
    "warnings.filterwarnings('ignore')"
   ]
  },
  {
   "cell_type": "code",
   "execution_count": null,
   "metadata": {},
   "outputs": [],
   "source": [
    "#defines parser for terminal usage\n",
    "import argparse\n",
    "\n",
    "parser = argparse.ArgumentParser()\n",
    "parser.add_argument('--plot', \n",
    "                    help='Allow output plots', \n",
    "                    action='store_true')\n",
    "parser.add_argument('-f', \n",
    "                    help='Foo value, defined for jupyter notebook compatibility')\n",
    "args = parser.parse_args()\n",
    "\n",
    "PLOT = args.plot\n",
    "\n",
    "if PLOT:\n",
    "    print('Plots turned on')"
   ]
  },
  {
   "cell_type": "code",
   "execution_count": null,
   "metadata": {},
   "outputs": [],
   "source": [
    "#progressbar import\n",
    "\n",
    "import progressbar as pbar\n",
    "import progressbar.widgets as pbwg"
   ]
  },
  {
   "cell_type": "code",
   "execution_count": null,
   "metadata": {},
   "outputs": [],
   "source": [
    "from galaxies import galaxies as gal"
   ]
  },
  {
   "cell_type": "code",
   "execution_count": null,
   "metadata": {},
   "outputs": [],
   "source": [
    "M_galaxy = 1.0e12 | units.MSun\n",
    "R_galaxy = 10 | units.kpc\n",
    "n_bulge = 10000\n",
    "n_disk = 10000\n",
    "n_halo = 20000\n",
    "t_end = 200 | units.Myr\n",
    "#t_end = 200\n",
    "\n",
    "galaxy1, galaxy2, converter = gal.make_galaxies(M_galaxy, R_galaxy, n_halo, n_bulge, n_disk)\n",
    "stars = gal.nstars(50, 8.27806, 0.10, 230000)\n",
    "#simulate_merger(galaxy1, galaxy2, converter, n_halo, t_end)\n",
    "#mw_and_stars(galaxy2, stars, converter, n_halo, t_end)"
   ]
  },
  {
   "cell_type": "code",
   "execution_count": null,
   "metadata": {},
   "outputs": [],
   "source": [
    "from IGM import IGM_homogenous_Gadget2 as igm\n",
    "\n",
    "N1 = 5000\n",
    "N2 = 1000\n",
    "L = 10 | units.kpc\n",
    "rho = 1000 | units.MSun / (units.kpc)**3\n",
    "u = 1.6e+15 | (units.m)**2 / (units.s)**2\n",
    "\n",
    "widgets = ['Building IGM: ', pbwg.AnimatedMarker(),\n",
    "               pbwg.EndMsg()]\n",
    "with pbar.ProgressBar(widgets=widgets, fd=sys.stdout) as progress:\n",
    "    sph_code = igm.setup_sph_code(Gadget2, N1, N2, L, rho, u)\n",
    "\n",
    "gal.merger_and_igm(galaxy1, galaxy2, converter, sph_code, n_halo, t_end, script_path, plot=PLOT)"
   ]
  },
  {
   "cell_type": "code",
   "execution_count": null,
   "metadata": {},
   "outputs": [],
   "source": []
  }
 ],
 "metadata": {
  "kernelspec": {
   "display_name": "Python 3",
   "language": "python",
   "name": "python3"
  },
  "language_info": {
   "codemirror_mode": {
    "name": "ipython",
    "version": 3
   },
   "file_extension": ".py",
   "mimetype": "text/x-python",
   "name": "python",
   "nbconvert_exporter": "python",
   "pygments_lexer": "ipython3",
   "version": "3.7.9"
  }
 },
 "nbformat": 4,
 "nbformat_minor": 4
}
