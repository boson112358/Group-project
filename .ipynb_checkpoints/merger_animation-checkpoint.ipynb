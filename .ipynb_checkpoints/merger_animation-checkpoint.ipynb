{
 "cells": [
  {
   "cell_type": "code",
   "execution_count": 1,
   "metadata": {},
   "outputs": [],
   "source": [
    "import os\n",
    "import inspect\n",
    "import sys\n",
    "\n",
    "#finds script path\n",
    "filename = inspect.getframeinfo(inspect.currentframe()).filename\n",
    "SCRIPT_PATH = os.path.dirname(os.path.abspath(filename))"
   ]
  },
  {
   "cell_type": "code",
   "execution_count": 6,
   "metadata": {},
   "outputs": [],
   "source": [
    "ani_folder = SCRIPT_PATH + '/animations/'\n",
    "\n",
    "if not os.path.exists(ani_folder):\n",
    "    os.makedirs(ani_folder)\n",
    "    \n",
    "plots_folder = SCRIPT_PATH + '/plots/merger_plots/'"
   ]
  },
  {
   "cell_type": "code",
   "execution_count": 15,
   "metadata": {},
   "outputs": [],
   "source": [
    "filenames_list = []\n",
    "for (dirpath, dirnames, filenames) in os.walk(plots_folder):\n",
    "    filenames_list.extend(filenames)\n",
    "    break\n",
    "    \n",
    "filenames_list.sort()"
   ]
  },
  {
   "cell_type": "code",
   "execution_count": 17,
   "metadata": {},
   "outputs": [],
   "source": [
    "import imageio"
   ]
  },
  {
   "cell_type": "code",
   "execution_count": 19,
   "metadata": {},
   "outputs": [],
   "source": [
    "images = []\n",
    "\n",
    "for filename in filenames_list:\n",
    "    images.append(imageio.imread(plots_folder + filename))\n",
    "imageio.mimsave(ani_folder + 'MW_M31_merger_anim.gif', images, duration=0.2)"
   ]
  },
  {
   "cell_type": "code",
   "execution_count": null,
   "metadata": {},
   "outputs": [],
   "source": []
  }
 ],
 "metadata": {
  "kernelspec": {
   "display_name": "Python 3",
   "language": "python",
   "name": "python3"
  },
  "language_info": {
   "codemirror_mode": {
    "name": "ipython",
    "version": 3
   },
   "file_extension": ".py",
   "mimetype": "text/x-python",
   "name": "python",
   "nbconvert_exporter": "python",
   "pygments_lexer": "ipython3",
   "version": "3.7.9"
  }
 },
 "nbformat": 4,
 "nbformat_minor": 2
}
