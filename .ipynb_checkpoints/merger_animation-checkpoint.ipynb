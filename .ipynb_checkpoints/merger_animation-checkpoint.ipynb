{
 "cells": [
  {
   "cell_type": "code",
   "execution_count": 4,
   "metadata": {},
   "outputs": [],
   "source": [
    "import os\n",
    "import inspect\n",
    "import sys\n",
    "\n",
    "#finds script path\n",
    "filename = inspect.getframeinfo(inspect.currentframe()).filename\n",
    "SCRIPT_PATH = os.path.dirname(os.path.abspath(filename))"
   ]
  },
  {
   "cell_type": "code",
   "execution_count": 5,
   "metadata": {},
   "outputs": [],
   "source": [
    "ani_folder = SCRIPT_PATH + '/animations/'\n",
    "\n",
    "if not os.path.exists(ani_folder):\n",
    "    os.makedirs(ani_folder)\n",
    "    \n",
    "plots_folder_merger = SCRIPT_PATH + '/plots/merger_plots/'\n",
    "plots_folder_solar = SCRIPT_PATH + '/plots/solar_system_plots/'\n",
    "plots_folder_mw = SCRIPT_PATH + '/plots/mw_new_model/'"
   ]
  },
  {
   "cell_type": "code",
   "execution_count": 6,
   "metadata": {},
   "outputs": [],
   "source": [
    "import imageio"
   ]
  },
  {
   "cell_type": "code",
   "execution_count": 7,
   "metadata": {},
   "outputs": [],
   "source": [
    "def animation(plots_folder, out_name):\n",
    "    filenames_list = []\n",
    "    for (dirpath, dirnames, filenames) in os.walk(plots_folder):\n",
    "        filenames_list.extend(filenames)\n",
    "        break\n",
    "\n",
    "    filenames_list.sort()\n",
    "\n",
    "    images = []\n",
    "\n",
    "    for filename in filenames_list:\n",
    "        images.append(imageio.imread(plots_folder + filename))\n",
    "    imageio.mimsave(ani_folder + out_name, images, duration=0.2)"
   ]
  },
  {
   "cell_type": "code",
   "execution_count": 9,
   "metadata": {},
   "outputs": [],
   "source": [
    "#mw animation\n",
    "animation(plots_folder_mw, 'mw_anim_test.gif')"
   ]
  },
  {
   "cell_type": "code",
   "execution_count": 8,
   "metadata": {},
   "outputs": [],
   "source": [
    "#merger animation\n",
    "animation(plots_folder_merger, 'MW_M31_merger_anim_3.gif')"
   ]
  },
  {
   "cell_type": "code",
   "execution_count": null,
   "metadata": {},
   "outputs": [],
   "source": [
    "#solar animation\n",
    "animation(plots_folder_solar, 'solar_system_anim.gif')"
   ]
  }
 ],
 "metadata": {
  "kernelspec": {
   "display_name": "Python 3",
   "language": "python",
   "name": "python3"
  },
  "language_info": {
   "codemirror_mode": {
    "name": "ipython",
    "version": 3
   },
   "file_extension": ".py",
   "mimetype": "text/x-python",
   "name": "python",
   "nbconvert_exporter": "python",
   "pygments_lexer": "ipython3",
   "version": "3.7.9"
  }
 },
 "nbformat": 4,
 "nbformat_minor": 2
}
